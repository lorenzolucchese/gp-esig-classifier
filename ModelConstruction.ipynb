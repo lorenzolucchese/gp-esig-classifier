{
 "cells": [
  {
   "cell_type": "markdown",
   "metadata": {
    "colab_type": "text",
    "id": "view-in-github"
   },
   "source": [
    "<a href=\"https://colab.research.google.com/github/frtrigg5/A-new-signature-model/blob/main/ModelConstruction.ipynb\" target=\"_parent\"><img src=\"https://colab.research.google.com/assets/colab-badge.svg\" alt=\"Open In Colab\"/></a>"
   ]
  },
  {
   "cell_type": "markdown",
   "metadata": {},
   "source": [
    "# FBM Experiment"
   ]
  },
  {
   "cell_type": "code",
   "execution_count": 4,
   "metadata": {
    "id": "abkdlzGBcdi5"
   },
   "outputs": [],
   "source": [
    "import sys\n",
    "sys.path.append('/rds/general/user/ll1917/home/esig/gp-esig-classifier') # to add when running on remote Jupyter server\n",
    "\n",
    "import torch\n",
    "import numpy as np\n",
    "import fbm\n",
    "from lib.data.synthetic import MB_sample\n",
    "\n",
    "device = torch.device('cuda' if torch.cuda.is_available() else 'cpu')"
   ]
  },
  {
   "cell_type": "code",
   "execution_count": 5,
   "metadata": {
    "id": "LqKs1fqyRSGR"
   },
   "outputs": [],
   "source": [
    "begin, end, number, division, dim = 0, 1, 100, 1, 1\n",
    "'''\n",
    "begin = first time steps\n",
    "end = last known time steps\n",
    "division = 1 means we are taking the middle points as new time instants -> L2 = L1 - 1\n",
    "number = L1\n",
    "dim = 1 - one dimensional\n",
    "'''\n",
    "\n",
    "# generating the time steps\n",
    "known_times = torch.linspace(begin, end, number)\n",
    "new_times = torch.zeros(division*(number-1))\n",
    "for i in range(0,(number-1)):\n",
    "  new_times[(division*i):(division*(i+1))] = torch.linspace(known_times[i], known_times[i+1], (division+2))[1:(1 + division)]\n",
    "\n",
    "# Length of known values and new values\n",
    "L1 = known_times.shape[0]\n",
    "L2 = new_times.shape[0]\n",
    "\n",
    "timesteps = torch.cat((known_times, new_times),axis=0)\n",
    "timesteps_sorted, order = torch.sort(timesteps)\n",
    "\n",
    "extended_order = torch.zeros(dim*order.size(0))\n",
    "for i in range(order.size(0)):\n",
    "  extended_order[(i*dim):((i+1)*dim)] = torch.arange(order[i]*dim, (order[i] + 1)*dim)"
   ]
  },
  {
   "cell_type": "code",
   "execution_count": 6,
   "metadata": {},
   "outputs": [],
   "source": [
    "#construction of the dataset\n",
    "trShape, vlShape, testShape = 1000, 400, 600\n",
    "H = 0.26 # Hurst exponent\n",
    "f = fbm.FBM(number - 1, H)\n",
    "\n",
    "known_times = np.linspace(begin, end, number) #istanti temporali noti\n",
    "div = 1 # quanti nuovi istanti temporali prendere tra due istanti noti\n",
    "new_times = np.zeros(div*(number - 1))\n",
    "for i in range((number-1)):\n",
    "  new_times[(div*i):(div*(i+1))] = np.linspace(known_times[i], known_times[i+1], (div+2))[1:(1+div)]\n",
    "\n",
    "L1 = known_times.size\n",
    "L2 = new_times.size\n",
    "\n",
    "timestamps = np.concatenate((known_times, new_times), axis=0)\n",
    "# time series train\n",
    "dataset_value = np.zeros(shape=[trShape, number])\n",
    "for i in range(trShape//2):\n",
    "  dataset_value[i] = MB_sample(begin, end, number)[0]\n",
    "  dataset_value[i+trShape//2] = f.fbm()\n",
    "\n",
    "# time series validation\n",
    "dataset_value2 = np.zeros(shape=[vlShape, number])\n",
    "for i in range(vlShape//2):\n",
    "  dataset_value2[i] = MB_sample(begin, end, number)[0]\n",
    "  dataset_value2[i+vlShape//2] = f.fbm()\n",
    "\n",
    "# time series test\n",
    "dataset_value3 = np.zeros(shape=[testShape, number])\n",
    "for i in range(testShape//2):\n",
    "  dataset_value3[i] = MB_sample(begin, end, number)[0]\n",
    "  dataset_value3[i+testShape//2] = f.fbm()\n",
    " \n",
    "# adding known and unknown time stamps\n",
    "time_data = np.zeros((trShape, L1 + L2))\n",
    "for i in range(trShape):\n",
    "  time_data[i] = timestamps\n",
    "\n",
    "time_data2 = np.zeros((vlShape, L1 + L2))\n",
    "for i in range(vlShape):\n",
    "  time_data2[i] = timestamps\n",
    "\n",
    "time_data3 = np.zeros((testShape, L1 + L2))\n",
    "for i in range(testShape):\n",
    "  time_data3[i] = timestamps  \n",
    "\n",
    "# full dataset train\n",
    "dataset = np.concatenate((time_data, dataset_value), axis=-1) # full dataset\n",
    "dataset = dataset.astype('float32')\n",
    "\n",
    "# full dataset validation\n",
    "dataset2 = np.concatenate((time_data2,dataset_value2), axis=-1) # full dataset\n",
    "dataset2 = dataset2.astype('float32')\n",
    "\n",
    "# full dataset test\n",
    "dataset3 = np.concatenate((time_data3, dataset_value3), axis=-1) # full dataset\n",
    "dataset3 = dataset3.astype('float32')\n",
    "\n",
    "# label construction\n",
    "y = np.zeros(trShape, dtype='uint8') # label 0 for Brownian Motion, 1 for FBM\n",
    "y[trShape//2:] = 1\n",
    "\n",
    "#label di validation\n",
    "y2 = np.zeros(vlShape, dtype='uint8')\n",
    "y2[vlShape//2:] = 1\n",
    "\n",
    "#label di test\n",
    "y3 = np.zeros(testShape, dtype='uint8') \n",
    "y3[testShape//2:] = 1"
   ]
  },
  {
   "cell_type": "code",
   "execution_count": 7,
   "metadata": {},
   "outputs": [],
   "source": [
    "from torch.utils.data import DataLoader, TensorDataset\n",
    "\n",
    "batch = 60\n",
    "training_data = TensorDataset(torch.from_numpy(dataset), torch.from_numpy(y).long())\n",
    "train_loader = DataLoader(training_data, batch_size=batch, shuffle=True)\n",
    "\n",
    "val_data = TensorDataset(torch.from_numpy(dataset2), torch.from_numpy(y2).long())\n",
    "val_loader = DataLoader(val_data, batch_size=vlShape, shuffle=False)\n",
    "\n",
    "test_data = TensorDataset(torch.from_numpy(dataset3), torch.from_numpy(y3).long())\n",
    "test_loader = DataLoader(test_data, batch_size=testShape, shuffle=False)"
   ]
  },
  {
   "cell_type": "code",
   "execution_count": 8,
   "metadata": {},
   "outputs": [],
   "source": [
    "# Evaluation function to calculate accuracy\n",
    "def evaluate_accuracy(model, data_loader):\n",
    "    model.eval()  # Set the model to evaluation mode\n",
    "    correct = 0\n",
    "    total = 0\n",
    "    with torch.no_grad():  # No gradient calculation during evaluation\n",
    "        for inputs, labels in data_loader:\n",
    "            outputs = model(inputs)\n",
    "            _, predicted = torch.max(outputs, 1)  # Get the predicted class\n",
    "            correct += (predicted == labels).sum().item()  # Count correct predictions\n",
    "            total += labels.size(0)  # Total samples\n",
    "    \n",
    "    accuracy = correct / total * 100  # Calculate accuracy as a percentage\n",
    "    return accuracy"
   ]
  },
  {
   "cell_type": "code",
   "execution_count": 15,
   "metadata": {},
   "outputs": [
    {
     "name": "stdout",
     "output_type": "stream",
     "text": [
      "Loading checkpoint...\n"
     ]
    },
    {
     "name": "stderr",
     "output_type": "stream",
     "text": [
      "100%|██████████| 17/17 [00:08<00:00,  2.05it/s]\n"
     ]
    },
    {
     "name": "stdout",
     "output_type": "stream",
     "text": [
      "Epoch 201/300, Training Loss: 0.3673\n",
      "Validation Loss: 0.4659\n",
      "Validation Accuracy: 77.00%\n"
     ]
    },
    {
     "name": "stderr",
     "output_type": "stream",
     "text": [
      "100%|██████████| 17/17 [00:08<00:00,  2.09it/s]\n"
     ]
    },
    {
     "name": "stdout",
     "output_type": "stream",
     "text": [
      "Epoch 202/300, Training Loss: 0.3647\n",
      "Validation Loss: 0.4535\n",
      "Validation Accuracy: 78.25%\n",
      "Improved! Saving model...\n"
     ]
    },
    {
     "name": "stderr",
     "output_type": "stream",
     "text": [
      "100%|██████████| 17/17 [00:08<00:00,  2.05it/s]\n"
     ]
    },
    {
     "name": "stdout",
     "output_type": "stream",
     "text": [
      "Epoch 203/300, Training Loss: 0.3609\n",
      "Validation Loss: 0.4535\n",
      "Validation Accuracy: 79.50%\n"
     ]
    },
    {
     "name": "stderr",
     "output_type": "stream",
     "text": [
      "100%|██████████| 17/17 [00:08<00:00,  2.04it/s]\n"
     ]
    },
    {
     "name": "stdout",
     "output_type": "stream",
     "text": [
      "Epoch 204/300, Training Loss: 0.3629\n",
      "Validation Loss: 0.4697\n",
      "Validation Accuracy: 76.25%\n"
     ]
    },
    {
     "name": "stderr",
     "output_type": "stream",
     "text": [
      "100%|██████████| 17/17 [00:08<00:00,  2.12it/s]\n"
     ]
    },
    {
     "name": "stdout",
     "output_type": "stream",
     "text": [
      "Epoch 205/300, Training Loss: 0.3641\n",
      "Validation Loss: 0.4607\n",
      "Validation Accuracy: 77.25%\n"
     ]
    },
    {
     "name": "stderr",
     "output_type": "stream",
     "text": [
      "100%|██████████| 17/17 [00:08<00:00,  2.11it/s]\n"
     ]
    },
    {
     "name": "stdout",
     "output_type": "stream",
     "text": [
      "Epoch 206/300, Training Loss: 0.3574\n",
      "Validation Loss: 0.4560\n",
      "Validation Accuracy: 78.50%\n"
     ]
    },
    {
     "name": "stderr",
     "output_type": "stream",
     "text": [
      "100%|██████████| 17/17 [00:08<00:00,  2.11it/s]\n"
     ]
    },
    {
     "name": "stdout",
     "output_type": "stream",
     "text": [
      "Epoch 207/300, Training Loss: 0.3548\n",
      "Validation Loss: 0.4585\n",
      "Validation Accuracy: 78.50%\n"
     ]
    },
    {
     "name": "stderr",
     "output_type": "stream",
     "text": [
      "100%|██████████| 17/17 [00:08<00:00,  2.12it/s]\n"
     ]
    },
    {
     "name": "stdout",
     "output_type": "stream",
     "text": [
      "Epoch 208/300, Training Loss: 0.3560\n",
      "Validation Loss: 0.4533\n",
      "Validation Accuracy: 77.50%\n",
      "Improved! Saving model...\n"
     ]
    },
    {
     "name": "stderr",
     "output_type": "stream",
     "text": [
      "100%|██████████| 17/17 [00:08<00:00,  2.11it/s]\n"
     ]
    },
    {
     "name": "stdout",
     "output_type": "stream",
     "text": [
      "Epoch 209/300, Training Loss: 0.3546\n",
      "Validation Loss: 0.4551\n",
      "Validation Accuracy: 77.75%\n"
     ]
    },
    {
     "name": "stderr",
     "output_type": "stream",
     "text": [
      "100%|██████████| 17/17 [00:08<00:00,  2.10it/s]\n"
     ]
    },
    {
     "name": "stdout",
     "output_type": "stream",
     "text": [
      "Epoch 210/300, Training Loss: 0.3532\n",
      "Validation Loss: 0.4504\n",
      "Validation Accuracy: 80.25%\n",
      "Improved! Saving model...\n"
     ]
    },
    {
     "name": "stderr",
     "output_type": "stream",
     "text": [
      "100%|██████████| 17/17 [00:08<00:00,  2.11it/s]\n"
     ]
    },
    {
     "name": "stdout",
     "output_type": "stream",
     "text": [
      "Epoch 211/300, Training Loss: 0.3493\n",
      "Validation Loss: 0.4524\n",
      "Validation Accuracy: 78.75%\n"
     ]
    },
    {
     "name": "stderr",
     "output_type": "stream",
     "text": [
      "100%|██████████| 17/17 [00:08<00:00,  2.10it/s]\n"
     ]
    },
    {
     "name": "stdout",
     "output_type": "stream",
     "text": [
      "Epoch 212/300, Training Loss: 0.3484\n",
      "Validation Loss: 0.4651\n",
      "Validation Accuracy: 75.75%\n"
     ]
    },
    {
     "name": "stderr",
     "output_type": "stream",
     "text": [
      "100%|██████████| 17/17 [00:08<00:00,  2.10it/s]\n"
     ]
    },
    {
     "name": "stdout",
     "output_type": "stream",
     "text": [
      "Epoch 213/300, Training Loss: 0.3498\n",
      "Validation Loss: 0.4525\n",
      "Validation Accuracy: 79.25%\n"
     ]
    },
    {
     "name": "stderr",
     "output_type": "stream",
     "text": [
      "100%|██████████| 17/17 [00:08<00:00,  2.11it/s]\n"
     ]
    },
    {
     "name": "stdout",
     "output_type": "stream",
     "text": [
      "Epoch 214/300, Training Loss: 0.3458\n",
      "Validation Loss: 0.4459\n",
      "Validation Accuracy: 80.00%\n",
      "Improved! Saving model...\n"
     ]
    },
    {
     "name": "stderr",
     "output_type": "stream",
     "text": [
      "100%|██████████| 17/17 [00:08<00:00,  2.10it/s]\n"
     ]
    },
    {
     "name": "stdout",
     "output_type": "stream",
     "text": [
      "Epoch 215/300, Training Loss: 0.3417\n",
      "Validation Loss: 0.4477\n",
      "Validation Accuracy: 78.00%\n"
     ]
    },
    {
     "name": "stderr",
     "output_type": "stream",
     "text": [
      "100%|██████████| 17/17 [00:08<00:00,  2.06it/s]\n"
     ]
    },
    {
     "name": "stdout",
     "output_type": "stream",
     "text": [
      "Epoch 216/300, Training Loss: 0.3410\n",
      "Validation Loss: 0.4441\n",
      "Validation Accuracy: 80.00%\n",
      "Improved! Saving model...\n"
     ]
    },
    {
     "name": "stderr",
     "output_type": "stream",
     "text": [
      "100%|██████████| 17/17 [00:08<00:00,  2.04it/s]\n"
     ]
    },
    {
     "name": "stdout",
     "output_type": "stream",
     "text": [
      "Epoch 217/300, Training Loss: 0.3394\n",
      "Validation Loss: 0.4629\n",
      "Validation Accuracy: 76.75%\n"
     ]
    },
    {
     "name": "stderr",
     "output_type": "stream",
     "text": [
      "100%|██████████| 17/17 [00:08<00:00,  2.00it/s]\n"
     ]
    },
    {
     "name": "stdout",
     "output_type": "stream",
     "text": [
      "Epoch 218/300, Training Loss: 0.3403\n",
      "Validation Loss: 0.4441\n",
      "Validation Accuracy: 78.75%\n",
      "Improved! Saving model...\n"
     ]
    },
    {
     "name": "stderr",
     "output_type": "stream",
     "text": [
      "100%|██████████| 17/17 [00:08<00:00,  2.06it/s]\n"
     ]
    },
    {
     "name": "stdout",
     "output_type": "stream",
     "text": [
      "Epoch 219/300, Training Loss: 0.3408\n",
      "Validation Loss: 0.4474\n",
      "Validation Accuracy: 79.25%\n"
     ]
    },
    {
     "name": "stderr",
     "output_type": "stream",
     "text": [
      "100%|██████████| 17/17 [00:08<00:00,  2.05it/s]\n"
     ]
    },
    {
     "name": "stdout",
     "output_type": "stream",
     "text": [
      "Epoch 220/300, Training Loss: 0.3376\n",
      "Validation Loss: 0.4467\n",
      "Validation Accuracy: 80.50%\n"
     ]
    },
    {
     "name": "stderr",
     "output_type": "stream",
     "text": [
      "100%|██████████| 17/17 [00:08<00:00,  2.03it/s]\n"
     ]
    },
    {
     "name": "stdout",
     "output_type": "stream",
     "text": [
      "Epoch 221/300, Training Loss: 0.3362\n",
      "Validation Loss: 0.4502\n",
      "Validation Accuracy: 78.00%\n"
     ]
    },
    {
     "name": "stderr",
     "output_type": "stream",
     "text": [
      "100%|██████████| 17/17 [00:08<00:00,  2.02it/s]\n"
     ]
    },
    {
     "name": "stdout",
     "output_type": "stream",
     "text": [
      "Epoch 222/300, Training Loss: 0.3312\n",
      "Validation Loss: 0.4428\n",
      "Validation Accuracy: 78.25%\n",
      "Improved! Saving model...\n"
     ]
    },
    {
     "name": "stderr",
     "output_type": "stream",
     "text": [
      "100%|██████████| 17/17 [00:08<00:00,  2.02it/s]\n"
     ]
    },
    {
     "name": "stdout",
     "output_type": "stream",
     "text": [
      "Epoch 223/300, Training Loss: 0.3321\n",
      "Validation Loss: 0.4425\n",
      "Validation Accuracy: 80.25%\n",
      "Improved! Saving model...\n"
     ]
    },
    {
     "name": "stderr",
     "output_type": "stream",
     "text": [
      "100%|██████████| 17/17 [00:08<00:00,  2.08it/s]\n"
     ]
    },
    {
     "name": "stdout",
     "output_type": "stream",
     "text": [
      "Epoch 224/300, Training Loss: 0.3324\n",
      "Validation Loss: 0.4513\n",
      "Validation Accuracy: 78.75%\n"
     ]
    },
    {
     "name": "stderr",
     "output_type": "stream",
     "text": [
      "100%|██████████| 17/17 [00:08<00:00,  2.02it/s]\n"
     ]
    },
    {
     "name": "stdout",
     "output_type": "stream",
     "text": [
      "Epoch 225/300, Training Loss: 0.3260\n",
      "Validation Loss: 0.4428\n",
      "Validation Accuracy: 79.25%\n"
     ]
    },
    {
     "name": "stderr",
     "output_type": "stream",
     "text": [
      "100%|██████████| 17/17 [00:08<00:00,  2.03it/s]\n"
     ]
    },
    {
     "name": "stdout",
     "output_type": "stream",
     "text": [
      "Epoch 226/300, Training Loss: 0.3256\n",
      "Validation Loss: 0.4436\n",
      "Validation Accuracy: 77.75%\n"
     ]
    },
    {
     "name": "stderr",
     "output_type": "stream",
     "text": [
      "100%|██████████| 17/17 [00:08<00:00,  2.01it/s]\n"
     ]
    },
    {
     "name": "stdout",
     "output_type": "stream",
     "text": [
      "Epoch 227/300, Training Loss: 0.3266\n",
      "Validation Loss: 0.4517\n",
      "Validation Accuracy: 78.00%\n"
     ]
    },
    {
     "name": "stderr",
     "output_type": "stream",
     "text": [
      "100%|██████████| 17/17 [00:08<00:00,  2.12it/s]\n"
     ]
    },
    {
     "name": "stdout",
     "output_type": "stream",
     "text": [
      "Epoch 228/300, Training Loss: 0.3237\n",
      "Validation Loss: 0.4406\n",
      "Validation Accuracy: 78.50%\n",
      "Improved! Saving model...\n"
     ]
    },
    {
     "name": "stderr",
     "output_type": "stream",
     "text": [
      "100%|██████████| 17/17 [00:08<00:00,  2.08it/s]\n"
     ]
    },
    {
     "name": "stdout",
     "output_type": "stream",
     "text": [
      "Epoch 229/300, Training Loss: 0.3191\n",
      "Validation Loss: 0.4391\n",
      "Validation Accuracy: 79.75%\n",
      "Improved! Saving model...\n"
     ]
    },
    {
     "name": "stderr",
     "output_type": "stream",
     "text": [
      "100%|██████████| 17/17 [00:08<00:00,  2.03it/s]\n"
     ]
    },
    {
     "name": "stdout",
     "output_type": "stream",
     "text": [
      "Epoch 230/300, Training Loss: 0.3246\n",
      "Validation Loss: 0.4482\n",
      "Validation Accuracy: 78.00%\n"
     ]
    },
    {
     "name": "stderr",
     "output_type": "stream",
     "text": [
      "100%|██████████| 17/17 [00:08<00:00,  2.05it/s]\n"
     ]
    },
    {
     "name": "stdout",
     "output_type": "stream",
     "text": [
      "Epoch 231/300, Training Loss: 0.3179\n",
      "Validation Loss: 0.4411\n",
      "Validation Accuracy: 79.00%\n"
     ]
    },
    {
     "name": "stderr",
     "output_type": "stream",
     "text": [
      "100%|██████████| 17/17 [00:08<00:00,  2.05it/s]\n"
     ]
    },
    {
     "name": "stdout",
     "output_type": "stream",
     "text": [
      "Epoch 232/300, Training Loss: 0.3141\n",
      "Validation Loss: 0.4451\n",
      "Validation Accuracy: 78.00%\n"
     ]
    },
    {
     "name": "stderr",
     "output_type": "stream",
     "text": [
      "100%|██████████| 17/17 [00:08<00:00,  2.03it/s]\n"
     ]
    },
    {
     "name": "stdout",
     "output_type": "stream",
     "text": [
      "Epoch 233/300, Training Loss: 0.3198\n",
      "Validation Loss: 0.4388\n",
      "Validation Accuracy: 78.75%\n",
      "Improved! Saving model...\n"
     ]
    },
    {
     "name": "stderr",
     "output_type": "stream",
     "text": [
      "100%|██████████| 17/17 [00:08<00:00,  2.00it/s]\n"
     ]
    },
    {
     "name": "stdout",
     "output_type": "stream",
     "text": [
      "Epoch 234/300, Training Loss: 0.3157\n",
      "Validation Loss: 0.4557\n",
      "Validation Accuracy: 77.50%\n"
     ]
    },
    {
     "name": "stderr",
     "output_type": "stream",
     "text": [
      "100%|██████████| 17/17 [00:08<00:00,  2.02it/s]\n"
     ]
    },
    {
     "name": "stdout",
     "output_type": "stream",
     "text": [
      "Epoch 235/300, Training Loss: 0.3129\n",
      "Validation Loss: 0.4395\n",
      "Validation Accuracy: 78.50%\n"
     ]
    },
    {
     "name": "stderr",
     "output_type": "stream",
     "text": [
      "100%|██████████| 17/17 [00:08<00:00,  2.04it/s]\n"
     ]
    },
    {
     "name": "stdout",
     "output_type": "stream",
     "text": [
      "Epoch 236/300, Training Loss: 0.3094\n",
      "Validation Loss: 0.4367\n",
      "Validation Accuracy: 79.00%\n",
      "Improved! Saving model...\n"
     ]
    },
    {
     "name": "stderr",
     "output_type": "stream",
     "text": [
      "100%|██████████| 17/17 [00:08<00:00,  2.04it/s]\n"
     ]
    },
    {
     "name": "stdout",
     "output_type": "stream",
     "text": [
      "Epoch 237/300, Training Loss: 0.3100\n",
      "Validation Loss: 0.4494\n",
      "Validation Accuracy: 78.75%\n"
     ]
    },
    {
     "name": "stderr",
     "output_type": "stream",
     "text": [
      "100%|██████████| 17/17 [00:08<00:00,  1.98it/s]\n"
     ]
    },
    {
     "name": "stdout",
     "output_type": "stream",
     "text": [
      "Epoch 238/300, Training Loss: 0.3072\n",
      "Validation Loss: 0.4276\n",
      "Validation Accuracy: 79.50%\n",
      "Improved! Saving model...\n"
     ]
    },
    {
     "name": "stderr",
     "output_type": "stream",
     "text": [
      "100%|██████████| 17/17 [00:08<00:00,  1.99it/s]\n"
     ]
    },
    {
     "name": "stdout",
     "output_type": "stream",
     "text": [
      "Epoch 239/300, Training Loss: 0.3050\n",
      "Validation Loss: 0.4430\n",
      "Validation Accuracy: 78.25%\n"
     ]
    },
    {
     "name": "stderr",
     "output_type": "stream",
     "text": [
      "100%|██████████| 17/17 [00:08<00:00,  1.98it/s]\n"
     ]
    },
    {
     "name": "stdout",
     "output_type": "stream",
     "text": [
      "Epoch 240/300, Training Loss: 0.3037\n",
      "Validation Loss: 0.4533\n",
      "Validation Accuracy: 78.00%\n"
     ]
    },
    {
     "name": "stderr",
     "output_type": "stream",
     "text": [
      "100%|██████████| 17/17 [00:08<00:00,  2.00it/s]\n"
     ]
    },
    {
     "name": "stdout",
     "output_type": "stream",
     "text": [
      "Epoch 241/300, Training Loss: 0.3044\n",
      "Validation Loss: 0.4338\n",
      "Validation Accuracy: 80.25%\n"
     ]
    },
    {
     "name": "stderr",
     "output_type": "stream",
     "text": [
      "100%|██████████| 17/17 [00:08<00:00,  2.04it/s]\n"
     ]
    },
    {
     "name": "stdout",
     "output_type": "stream",
     "text": [
      "Epoch 242/300, Training Loss: 0.3039\n",
      "Validation Loss: 0.4452\n",
      "Validation Accuracy: 78.75%\n"
     ]
    },
    {
     "name": "stderr",
     "output_type": "stream",
     "text": [
      "100%|██████████| 17/17 [00:08<00:00,  2.01it/s]\n"
     ]
    },
    {
     "name": "stdout",
     "output_type": "stream",
     "text": [
      "Epoch 243/300, Training Loss: 0.3016\n",
      "Validation Loss: 0.4367\n",
      "Validation Accuracy: 80.50%\n"
     ]
    },
    {
     "name": "stderr",
     "output_type": "stream",
     "text": [
      "100%|██████████| 17/17 [00:08<00:00,  2.03it/s]\n"
     ]
    },
    {
     "name": "stdout",
     "output_type": "stream",
     "text": [
      "Epoch 244/300, Training Loss: 0.3010\n",
      "Validation Loss: 0.4290\n",
      "Validation Accuracy: 80.00%\n"
     ]
    },
    {
     "name": "stderr",
     "output_type": "stream",
     "text": [
      "100%|██████████| 17/17 [00:08<00:00,  2.04it/s]\n"
     ]
    },
    {
     "name": "stdout",
     "output_type": "stream",
     "text": [
      "Epoch 245/300, Training Loss: 0.2997\n",
      "Validation Loss: 0.4341\n",
      "Validation Accuracy: 79.25%\n"
     ]
    },
    {
     "name": "stderr",
     "output_type": "stream",
     "text": [
      "100%|██████████| 17/17 [00:08<00:00,  2.01it/s]\n"
     ]
    },
    {
     "name": "stdout",
     "output_type": "stream",
     "text": [
      "Epoch 246/300, Training Loss: 0.2980\n",
      "Validation Loss: 0.4301\n",
      "Validation Accuracy: 78.75%\n"
     ]
    },
    {
     "name": "stderr",
     "output_type": "stream",
     "text": [
      "100%|██████████| 17/17 [00:08<00:00,  2.06it/s]\n"
     ]
    },
    {
     "name": "stdout",
     "output_type": "stream",
     "text": [
      "Epoch 247/300, Training Loss: 0.2956\n",
      "Validation Loss: 0.4398\n",
      "Validation Accuracy: 79.25%\n"
     ]
    },
    {
     "name": "stderr",
     "output_type": "stream",
     "text": [
      "100%|██████████| 17/17 [00:08<00:00,  2.02it/s]\n"
     ]
    },
    {
     "name": "stdout",
     "output_type": "stream",
     "text": [
      "Epoch 248/300, Training Loss: 0.2947\n",
      "Validation Loss: 0.4455\n",
      "Validation Accuracy: 78.00%\n",
      "Early stopping triggered.\n",
      "Training completed.\n"
     ]
    }
   ],
   "source": [
    "import torch.nn as nn\n",
    "import torch.optim as optim\n",
    "from lib.model import MyModel\n",
    "from tqdm import tqdm\n",
    "import os\n",
    "\n",
    "alpha = 1\n",
    "level = 3\n",
    "number_classes = 2\n",
    "C = 5e3\n",
    "a = 1\n",
    "K = 30\n",
    "\n",
    "# Initialize model, loss function, and optimizer\n",
    "model = MyModel(\n",
    "    L1=L1, \n",
    "    L2=L2, \n",
    "    dim=dim, \n",
    "    order=order, \n",
    "    extended_order=extended_order, \n",
    "    alpha=alpha, \n",
    "    level=level, \n",
    "    number_classes=number_classes, \n",
    "    C=C, \n",
    "    a=a, \n",
    "    K=K\n",
    ")\n",
    "criterion = nn.CrossEntropyLoss()\n",
    "optimizer = optim.SGD(model.parameters(), lr=0.1)\n",
    "\n",
    "# Training parameters\n",
    "num_epochs = 300\n",
    "patience = 10\n",
    "\n",
    "# Define the path to save the checkpoint\n",
    "checkpoint_path = 'checkpoint.pth'\n",
    "\n",
    "# Initialize best_loss and early_stopping_counter\n",
    "best_loss = float('inf')\n",
    "early_stopping_counter = 0\n",
    "\n",
    "# Load from checkpoint if it exists\n",
    "if os.path.isfile(checkpoint_path):\n",
    "    print(\"Loading checkpoint...\")\n",
    "    checkpoint = torch.load(checkpoint_path)\n",
    "    model.load_state_dict(checkpoint['model_state_dict'])\n",
    "    optimizer.load_state_dict(checkpoint['optimizer_state_dict'])\n",
    "    start_epoch = checkpoint['epoch']\n",
    "    best_loss = checkpoint['best_loss']\n",
    "    early_stopping_counter = checkpoint['early_stopping_counter']\n",
    "else:\n",
    "    start_epoch = 0  # Start from the beginning if no checkpoint exists\n",
    "\n",
    "# Training loop\n",
    "for epoch in range(start_epoch, num_epochs):\n",
    "    model.train()  # Set the model to training mode\n",
    "    running_loss = 0.0\n",
    "    \n",
    "    for inputs, labels in tqdm(train_loader):\n",
    "        optimizer.zero_grad()  # Zero the parameter gradients\n",
    "        outputs = model(inputs)  # Forward pass\n",
    "        loss = criterion(outputs, labels)  # Compute loss\n",
    "        loss.backward()  # Backward pass\n",
    "        optimizer.step()  # Optimize weights\n",
    "        \n",
    "        running_loss += loss.item()  # Accumulate loss\n",
    "    \n",
    "    # Average loss for the training epoch\n",
    "    train_loss = running_loss / len(train_loader)\n",
    "    print(f'Epoch {epoch+1}/{num_epochs}, Training Loss: {train_loss:.4f}')\n",
    "\n",
    "    # Validation step\n",
    "    model.eval()  # Set the model to evaluation mode\n",
    "    val_running_loss = 0.0\n",
    "    with torch.no_grad():  # No gradient calculation for validation\n",
    "        for inputs, labels in val_loader:\n",
    "            outputs = model(inputs)  # Forward pass\n",
    "            loss = criterion(outputs, labels)  # Compute validation loss\n",
    "            val_running_loss += loss.item()  # Accumulate validation loss\n",
    "\n",
    "    # Average loss for the validation epoch\n",
    "    val_loss = val_running_loss / len(val_loader)\n",
    "    print(f'Validation Loss: {val_loss:.4f}')\n",
    "\n",
    "    # Calculate and print accuracy on validation set\n",
    "    accuracy = evaluate_accuracy(model, val_loader)\n",
    "    print(f'Validation Accuracy: {accuracy:.2f}%')\n",
    "    \n",
    "    # Early stopping\n",
    "    if val_loss < best_loss:\n",
    "        best_loss = val_loss\n",
    "        early_stopping_counter = 0  # Reset counter if loss improves\n",
    "        print(\"Improved! Saving model...\")\n",
    "        torch.save(model.state_dict(), 'best_model.pth')  # Save the best model\n",
    "    else:\n",
    "        early_stopping_counter += 1\n",
    "        if early_stopping_counter >= patience:\n",
    "            print(\"Early stopping triggered.\")\n",
    "            break  # Stop training if patience is exceeded\n",
    "\n",
    "    # Save checkpoint after each epoch\n",
    "    torch.save({\n",
    "        'epoch': epoch + 1,  # Save next epoch\n",
    "        'model_state_dict': model.state_dict(),\n",
    "        'optimizer_state_dict': optimizer.state_dict(),\n",
    "        'best_loss': best_loss,\n",
    "        'early_stopping_counter': early_stopping_counter,\n",
    "    }, checkpoint_path)\n",
    "\n",
    "print(\"Training completed.\")"
   ]
  },
  {
   "cell_type": "code",
   "execution_count": 16,
   "metadata": {},
   "outputs": [
    {
     "name": "stdout",
     "output_type": "stream",
     "text": [
      "Test Accuracy: 79.67%\n"
     ]
    }
   ],
   "source": [
    "# Load the best model weights\n",
    "model.load_state_dict(torch.load('best_model.pth'))\n",
    "\n",
    "# Calculate and print accuracy on validation set\n",
    "accuracy = evaluate_accuracy(model, test_loader)\n",
    "print(f'Test Accuracy: {accuracy:.2f}%')"
   ]
  },
  {
   "cell_type": "code",
   "execution_count": null,
   "metadata": {},
   "outputs": [],
   "source": []
  }
 ],
 "metadata": {
  "colab": {
   "include_colab_link": true,
   "provenance": []
  },
  "kernelspec": {
   "display_name": "Python [conda env:esig-gp-esig-classifier-env]",
   "language": "python",
   "name": "conda-env-esig-gp-esig-classifier-env-py"
  },
  "language_info": {
   "codemirror_mode": {
    "name": "ipython",
    "version": 3
   },
   "file_extension": ".py",
   "mimetype": "text/x-python",
   "name": "python",
   "nbconvert_exporter": "python",
   "pygments_lexer": "ipython3",
   "version": "3.8.20"
  }
 },
 "nbformat": 4,
 "nbformat_minor": 0
}
