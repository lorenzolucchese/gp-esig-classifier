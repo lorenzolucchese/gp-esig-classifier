{
 "cells": [
  {
   "cell_type": "markdown",
   "metadata": {
    "colab_type": "text",
    "id": "view-in-github"
   },
   "source": [
    "<a href=\"https://colab.research.google.com/github/frtrigg5/A-new-signature-model/blob/main/ModelConstruction.ipynb\" target=\"_parent\"><img src=\"https://colab.research.google.com/assets/colab-badge.svg\" alt=\"Open In Colab\"/></a>"
   ]
  },
  {
   "cell_type": "markdown",
   "metadata": {},
   "source": [
    "# FBM Experiment"
   ]
  },
  {
   "cell_type": "code",
   "execution_count": 1,
   "metadata": {
    "id": "abkdlzGBcdi5"
   },
   "outputs": [
    {
     "name": "stderr",
     "output_type": "stream",
     "text": [
      "/rds/general/user/ll1917/home/anaconda3/envs/esig-gp-esig-classifier-env/lib/python3.8/site-packages/tqdm/auto.py:21: TqdmWarning: IProgress not found. Please update jupyter and ipywidgets. See https://ipywidgets.readthedocs.io/en/stable/user_install.html\n",
      "  from .autonotebook import tqdm as notebook_tqdm\n"
     ]
    }
   ],
   "source": [
    "import sys\n",
    "import os\n",
    "sys.path.append('/rds/general/user/ll1917/home/esig/gp-esig-classifier') # to add when running on remote Jupyter server\n",
    "os.chdir('/rds/general/user/ll1917/home/esig/gp-esig-classifier') # to add when running on remote Jupyter server\n",
    "\n",
    "import torch\n",
    "import numpy as np\n",
    "\n",
    "device = torch.device('cuda' if torch.cuda.is_available() else 'cpu')"
   ]
  },
  {
   "cell_type": "code",
   "execution_count": 2,
   "metadata": {
    "id": "LqKs1fqyRSGR"
   },
   "outputs": [],
   "source": [
    "begin, end, number, division, dim = 0, 1, 100, 1, 1\n",
    "'''\n",
    "begin = first time steps\n",
    "end = last known time steps\n",
    "division = 1 means we are taking the middle points as new time instants -> L2 = L1 - 1\n",
    "number = L1\n",
    "dim = 1 - one dimensional\n",
    "'''\n",
    "\n",
    "# generating the time steps\n",
    "known_times = torch.linspace(begin, end, number)\n",
    "new_times = torch.zeros(division*(number-1))\n",
    "for i in range(0,(number-1)):\n",
    "  new_times[(division*i):(division*(i+1))] = torch.linspace(known_times[i], known_times[i+1], (division+2))[1:(1 + division)]\n",
    "\n",
    "# Length of known values and new values\n",
    "L1 = known_times.shape[0]\n",
    "L2 = new_times.shape[0]\n",
    "\n",
    "timesteps = torch.cat((known_times, new_times),axis=0)\n",
    "timesteps_sorted, order = torch.sort(timesteps)\n",
    "\n",
    "extended_order = torch.zeros(dim*order.size(0))\n",
    "for i in range(order.size(0)):\n",
    "  extended_order[(i*dim):((i+1)*dim)] = torch.arange(order[i]*dim, (order[i] + 1)*dim)"
   ]
  },
  {
   "cell_type": "code",
   "execution_count": 16,
   "metadata": {},
   "outputs": [],
   "source": [
    "from lib.data.synthetic import BM_sample, FBM_sample\n",
    "\n",
    "# construction of the dataset\n",
    "trShape, vlShape, testShape = 1000, 400, 600\n",
    "H = 0.26 # Hurst exponent\n",
    "\n",
    "known_times = np.linspace(begin, end, number) # istanti temporali noti\n",
    "div = 1 # quanti nuovi istanti temporali prendere tra due istanti noti\n",
    "new_times = np.zeros(div*(number - 1))\n",
    "for i in range((number-1)):\n",
    "  new_times[(div*i):(div*(i+1))] = np.linspace(known_times[i], known_times[i+1], (div+2))[1:(1+div)]\n",
    "\n",
    "L1 = known_times.size\n",
    "L2 = new_times.size\n",
    "\n",
    "timestamps = np.concatenate((known_times, new_times), axis=0)\n",
    "# time series train\n",
    "dataset_value = np.zeros(shape=[trShape, number])\n",
    "seed = 0\n",
    "for i in range(trShape//2):\n",
    "  dataset_value[i] = BM_sample(begin, end, number, seed=seed+i)[0]\n",
    "  dataset_value[i+trShape//2] = FBM_sample(begin, end, number, H, seed=seed+i)[0]\n",
    "\n",
    "# time series validation\n",
    "dataset_value2 = np.zeros(shape=[vlShape, number])\n",
    "seed = trShape//2\n",
    "for i in range(vlShape//2):\n",
    "  dataset_value2[i] = BM_sample(begin, end, number, seed=seed+i)[0]\n",
    "  dataset_value2[i+vlShape//2] = FBM_sample(begin, end, number, H, seed=seed+i)[0]\n",
    "\n",
    "# time series test\n",
    "dataset_value3 = np.zeros(shape=[testShape, number])\n",
    "seed = trShape//2 + vlShape//2\n",
    "for i in range(testShape//2):\n",
    "  dataset_value3[i] = BM_sample(begin, end, number, seed=seed+i)[0]\n",
    "  dataset_value3[i+testShape//2] = FBM_sample(begin, end, number, H, seed=seed+i)[0]\n",
    " \n",
    "# adding known and unknown time stamps\n",
    "time_data = np.zeros((trShape, L1 + L2))\n",
    "for i in range(trShape):\n",
    "  time_data[i] = timestamps\n",
    "\n",
    "time_data2 = np.zeros((vlShape, L1 + L2))\n",
    "for i in range(vlShape):\n",
    "  time_data2[i] = timestamps\n",
    "\n",
    "time_data3 = np.zeros((testShape, L1 + L2))\n",
    "for i in range(testShape):\n",
    "  time_data3[i] = timestamps  \n",
    "\n",
    "# full dataset train\n",
    "dataset = np.concatenate((time_data, dataset_value), axis=-1) # full dataset\n",
    "dataset = dataset.astype('float32')\n",
    "\n",
    "# full dataset validation\n",
    "dataset2 = np.concatenate((time_data2,dataset_value2), axis=-1) # full dataset\n",
    "dataset2 = dataset2.astype('float32')\n",
    "\n",
    "# full dataset test\n",
    "dataset3 = np.concatenate((time_data3, dataset_value3), axis=-1) # full dataset\n",
    "dataset3 = dataset3.astype('float32')\n",
    "\n",
    "# label construction\n",
    "y = np.zeros(trShape, dtype='uint8') # label 0 for Brownian Motion, 1 for FBM\n",
    "y[trShape//2:] = 1\n",
    "\n",
    "#label di validation\n",
    "y2 = np.zeros(vlShape, dtype='uint8')\n",
    "y2[vlShape//2:] = 1\n",
    "\n",
    "#label di test\n",
    "y3 = np.zeros(testShape, dtype='uint8') \n",
    "y3[testShape//2:] = 1"
   ]
  },
  {
   "cell_type": "code",
   "execution_count": 17,
   "metadata": {},
   "outputs": [],
   "source": [
    "from torch.utils.data import DataLoader, TensorDataset\n",
    "\n",
    "batch = 60\n",
    "training_data = TensorDataset(torch.from_numpy(dataset), torch.from_numpy(y).long())\n",
    "train_loader = DataLoader(training_data, batch_size=batch, shuffle=True)\n",
    "\n",
    "val_data = TensorDataset(torch.from_numpy(dataset2), torch.from_numpy(y2).long())\n",
    "val_loader = DataLoader(val_data, batch_size=vlShape, shuffle=False)\n",
    "\n",
    "test_data = TensorDataset(torch.from_numpy(dataset3), torch.from_numpy(y3).long())\n",
    "test_loader = DataLoader(test_data, batch_size=testShape, shuffle=False)"
   ]
  },
  {
   "cell_type": "code",
   "execution_count": 5,
   "metadata": {},
   "outputs": [],
   "source": [
    "# Evaluation function to calculate accuracy\n",
    "def evaluate_accuracy(model, data_loader):\n",
    "    model.eval()  # Set the model to evaluation mode\n",
    "    correct = 0\n",
    "    total = 0\n",
    "    with torch.no_grad():  # No gradient calculation during evaluation\n",
    "        for inputs, labels in data_loader:\n",
    "            outputs = model(inputs)\n",
    "            _, predicted = torch.max(outputs, 1)  # Get the predicted class\n",
    "            correct += (predicted == labels).sum().item()  # Count correct predictions\n",
    "            total += labels.size(0)  # Total samples\n",
    "    \n",
    "    accuracy = correct / total * 100  # Calculate accuracy as a percentage\n",
    "    return accuracy"
   ]
  },
  {
   "cell_type": "code",
   "execution_count": 7,
   "metadata": {},
   "outputs": [],
   "source": [
    "from lib.model import MyModel\n",
    "\n",
    "training_dir = os.path.join('checkpoints', 'run_003')\n",
    "os.makedirs(training_dir, exist_ok=True)\n",
    "\n",
    "alpha = L2 # 1, 5, L2\n",
    "level = 3\n",
    "number_classes = 2\n",
    "C = 5e3\n",
    "a = 1\n",
    "K = 30\n",
    "\n",
    "# Initialize model, loss function, and optimizer\n",
    "model = MyModel(\n",
    "    L1=L1, \n",
    "    L2=L2, \n",
    "    dim=dim, \n",
    "    order=order, \n",
    "    extended_order=extended_order, \n",
    "    alpha=alpha, \n",
    "    level=level, \n",
    "    number_classes=number_classes, \n",
    "    C=C, \n",
    "    a=a, \n",
    "    K=K\n",
    ")"
   ]
  },
  {
   "cell_type": "code",
   "execution_count": 10,
   "metadata": {},
   "outputs": [
    {
     "name": "stderr",
     "output_type": "stream",
     "text": [
      "100%|██████████| 17/17 [00:08<00:00,  2.10it/s]\n"
     ]
    },
    {
     "name": "stdout",
     "output_type": "stream",
     "text": [
      "Epoch 1/300, Training Loss: 0.7256\n",
      "Validation Loss: 0.6901\n",
      "Validation Accuracy: 51.00%\n",
      "Improved! Saving model...\n"
     ]
    },
    {
     "name": "stderr",
     "output_type": "stream",
     "text": [
      "100%|██████████| 17/17 [00:08<00:00,  2.10it/s]\n"
     ]
    },
    {
     "name": "stdout",
     "output_type": "stream",
     "text": [
      "Epoch 2/300, Training Loss: 0.6952\n",
      "Validation Loss: 0.6760\n",
      "Validation Accuracy: 55.75%\n",
      "Improved! Saving model...\n"
     ]
    },
    {
     "name": "stderr",
     "output_type": "stream",
     "text": [
      "100%|██████████| 17/17 [00:08<00:00,  2.10it/s]\n"
     ]
    },
    {
     "name": "stdout",
     "output_type": "stream",
     "text": [
      "Epoch 3/300, Training Loss: 0.6862\n",
      "Validation Loss: 0.6710\n",
      "Validation Accuracy: 50.50%\n",
      "Improved! Saving model...\n"
     ]
    },
    {
     "name": "stderr",
     "output_type": "stream",
     "text": [
      "100%|██████████| 17/17 [00:08<00:00,  2.10it/s]\n"
     ]
    },
    {
     "name": "stdout",
     "output_type": "stream",
     "text": [
      "Epoch 4/300, Training Loss: 0.6786\n",
      "Validation Loss: 0.6714\n",
      "Validation Accuracy: 57.25%\n"
     ]
    },
    {
     "name": "stderr",
     "output_type": "stream",
     "text": [
      "100%|██████████| 17/17 [00:08<00:00,  2.10it/s]\n"
     ]
    },
    {
     "name": "stdout",
     "output_type": "stream",
     "text": [
      "Epoch 5/300, Training Loss: 0.6735\n",
      "Validation Loss: 0.6581\n",
      "Validation Accuracy: 64.25%\n",
      "Improved! Saving model...\n"
     ]
    },
    {
     "name": "stderr",
     "output_type": "stream",
     "text": [
      "100%|██████████| 17/17 [00:08<00:00,  2.12it/s]\n"
     ]
    },
    {
     "name": "stdout",
     "output_type": "stream",
     "text": [
      "Epoch 6/300, Training Loss: 0.6740\n",
      "Validation Loss: 0.6527\n",
      "Validation Accuracy: 66.50%\n",
      "Improved! Saving model...\n"
     ]
    },
    {
     "name": "stderr",
     "output_type": "stream",
     "text": [
      "100%|██████████| 17/17 [00:08<00:00,  2.12it/s]\n"
     ]
    },
    {
     "name": "stdout",
     "output_type": "stream",
     "text": [
      "Epoch 7/300, Training Loss: 0.6756\n",
      "Validation Loss: 0.6452\n",
      "Validation Accuracy: 70.50%\n",
      "Improved! Saving model...\n"
     ]
    },
    {
     "name": "stderr",
     "output_type": "stream",
     "text": [
      "100%|██████████| 17/17 [00:08<00:00,  2.12it/s]\n"
     ]
    },
    {
     "name": "stdout",
     "output_type": "stream",
     "text": [
      "Epoch 8/300, Training Loss: 0.6678\n",
      "Validation Loss: 0.6400\n",
      "Validation Accuracy: 70.50%\n",
      "Improved! Saving model...\n"
     ]
    },
    {
     "name": "stderr",
     "output_type": "stream",
     "text": [
      "100%|██████████| 17/17 [00:08<00:00,  2.12it/s]\n"
     ]
    },
    {
     "name": "stdout",
     "output_type": "stream",
     "text": [
      "Epoch 9/300, Training Loss: 0.6651\n",
      "Validation Loss: 0.6386\n",
      "Validation Accuracy: 71.00%\n",
      "Improved! Saving model...\n"
     ]
    },
    {
     "name": "stderr",
     "output_type": "stream",
     "text": [
      "100%|██████████| 17/17 [00:08<00:00,  2.12it/s]\n"
     ]
    },
    {
     "name": "stdout",
     "output_type": "stream",
     "text": [
      "Epoch 10/300, Training Loss: 0.6601\n",
      "Validation Loss: 0.6386\n",
      "Validation Accuracy: 71.50%\n"
     ]
    },
    {
     "name": "stderr",
     "output_type": "stream",
     "text": [
      "100%|██████████| 17/17 [00:08<00:00,  2.12it/s]\n"
     ]
    },
    {
     "name": "stdout",
     "output_type": "stream",
     "text": [
      "Epoch 11/300, Training Loss: 0.6630\n",
      "Validation Loss: 0.6283\n",
      "Validation Accuracy: 71.50%\n",
      "Improved! Saving model...\n"
     ]
    },
    {
     "name": "stderr",
     "output_type": "stream",
     "text": [
      "100%|██████████| 17/17 [00:07<00:00,  2.13it/s]\n"
     ]
    },
    {
     "name": "stdout",
     "output_type": "stream",
     "text": [
      "Epoch 12/300, Training Loss: 0.6550\n",
      "Validation Loss: 0.6284\n",
      "Validation Accuracy: 68.50%\n"
     ]
    },
    {
     "name": "stderr",
     "output_type": "stream",
     "text": [
      "100%|██████████| 17/17 [00:07<00:00,  2.13it/s]\n"
     ]
    },
    {
     "name": "stdout",
     "output_type": "stream",
     "text": [
      "Epoch 13/300, Training Loss: 0.6561\n",
      "Validation Loss: 0.6203\n",
      "Validation Accuracy: 72.25%\n",
      "Improved! Saving model...\n"
     ]
    },
    {
     "name": "stderr",
     "output_type": "stream",
     "text": [
      "100%|██████████| 17/17 [00:07<00:00,  2.13it/s]\n"
     ]
    },
    {
     "name": "stdout",
     "output_type": "stream",
     "text": [
      "Epoch 14/300, Training Loss: 0.6434\n",
      "Validation Loss: 0.6169\n",
      "Validation Accuracy: 73.00%\n",
      "Improved! Saving model...\n"
     ]
    },
    {
     "name": "stderr",
     "output_type": "stream",
     "text": [
      "100%|██████████| 17/17 [00:08<00:00,  2.12it/s]\n"
     ]
    },
    {
     "name": "stdout",
     "output_type": "stream",
     "text": [
      "Epoch 15/300, Training Loss: 0.6428\n",
      "Validation Loss: 0.6102\n",
      "Validation Accuracy: 72.50%\n",
      "Improved! Saving model...\n"
     ]
    },
    {
     "name": "stderr",
     "output_type": "stream",
     "text": [
      "100%|██████████| 17/17 [00:07<00:00,  2.15it/s]\n"
     ]
    },
    {
     "name": "stdout",
     "output_type": "stream",
     "text": [
      "Epoch 16/300, Training Loss: 0.6374\n",
      "Validation Loss: 0.6115\n",
      "Validation Accuracy: 67.50%\n"
     ]
    },
    {
     "name": "stderr",
     "output_type": "stream",
     "text": [
      "100%|██████████| 17/17 [00:07<00:00,  2.15it/s]\n"
     ]
    },
    {
     "name": "stdout",
     "output_type": "stream",
     "text": [
      "Epoch 17/300, Training Loss: 0.6342\n",
      "Validation Loss: 0.5983\n",
      "Validation Accuracy: 73.50%\n",
      "Improved! Saving model...\n"
     ]
    },
    {
     "name": "stderr",
     "output_type": "stream",
     "text": [
      "100%|██████████| 17/17 [00:07<00:00,  2.15it/s]\n"
     ]
    },
    {
     "name": "stdout",
     "output_type": "stream",
     "text": [
      "Epoch 18/300, Training Loss: 0.6294\n",
      "Validation Loss: 0.6024\n",
      "Validation Accuracy: 73.75%\n"
     ]
    },
    {
     "name": "stderr",
     "output_type": "stream",
     "text": [
      "100%|██████████| 17/17 [00:07<00:00,  2.15it/s]\n"
     ]
    },
    {
     "name": "stdout",
     "output_type": "stream",
     "text": [
      "Epoch 19/300, Training Loss: 0.6233\n",
      "Validation Loss: 0.5943\n",
      "Validation Accuracy: 74.75%\n",
      "Improved! Saving model...\n"
     ]
    },
    {
     "name": "stderr",
     "output_type": "stream",
     "text": [
      "100%|██████████| 17/17 [00:07<00:00,  2.16it/s]\n"
     ]
    },
    {
     "name": "stdout",
     "output_type": "stream",
     "text": [
      "Epoch 20/300, Training Loss: 0.6162\n",
      "Validation Loss: 0.5872\n",
      "Validation Accuracy: 76.75%\n",
      "Improved! Saving model...\n"
     ]
    },
    {
     "name": "stderr",
     "output_type": "stream",
     "text": [
      "100%|██████████| 17/17 [00:07<00:00,  2.15it/s]\n"
     ]
    },
    {
     "name": "stdout",
     "output_type": "stream",
     "text": [
      "Epoch 21/300, Training Loss: 0.6021\n",
      "Validation Loss: 0.5823\n",
      "Validation Accuracy: 73.50%\n",
      "Improved! Saving model...\n"
     ]
    },
    {
     "name": "stderr",
     "output_type": "stream",
     "text": [
      "100%|██████████| 17/17 [00:07<00:00,  2.14it/s]\n"
     ]
    },
    {
     "name": "stdout",
     "output_type": "stream",
     "text": [
      "Epoch 22/300, Training Loss: 0.6011\n",
      "Validation Loss: 0.5759\n",
      "Validation Accuracy: 75.25%\n",
      "Improved! Saving model...\n"
     ]
    },
    {
     "name": "stderr",
     "output_type": "stream",
     "text": [
      "100%|██████████| 17/17 [00:07<00:00,  2.15it/s]\n"
     ]
    },
    {
     "name": "stdout",
     "output_type": "stream",
     "text": [
      "Epoch 23/300, Training Loss: 0.5919\n",
      "Validation Loss: 0.5700\n",
      "Validation Accuracy: 75.75%\n",
      "Improved! Saving model...\n"
     ]
    },
    {
     "name": "stderr",
     "output_type": "stream",
     "text": [
      "100%|██████████| 17/17 [00:07<00:00,  2.15it/s]\n"
     ]
    },
    {
     "name": "stdout",
     "output_type": "stream",
     "text": [
      "Epoch 24/300, Training Loss: 0.5906\n",
      "Validation Loss: 0.5590\n",
      "Validation Accuracy: 76.00%\n",
      "Improved! Saving model...\n"
     ]
    },
    {
     "name": "stderr",
     "output_type": "stream",
     "text": [
      "100%|██████████| 17/17 [00:07<00:00,  2.15it/s]\n"
     ]
    },
    {
     "name": "stdout",
     "output_type": "stream",
     "text": [
      "Epoch 25/300, Training Loss: 0.5857\n",
      "Validation Loss: 0.5614\n",
      "Validation Accuracy: 78.25%\n"
     ]
    },
    {
     "name": "stderr",
     "output_type": "stream",
     "text": [
      "100%|██████████| 17/17 [00:07<00:00,  2.14it/s]\n"
     ]
    },
    {
     "name": "stdout",
     "output_type": "stream",
     "text": [
      "Epoch 26/300, Training Loss: 0.5745\n",
      "Validation Loss: 0.5495\n",
      "Validation Accuracy: 77.00%\n",
      "Improved! Saving model...\n"
     ]
    },
    {
     "name": "stderr",
     "output_type": "stream",
     "text": [
      "100%|██████████| 17/17 [00:07<00:00,  2.15it/s]\n"
     ]
    },
    {
     "name": "stdout",
     "output_type": "stream",
     "text": [
      "Epoch 27/300, Training Loss: 0.5715\n",
      "Validation Loss: 0.5424\n",
      "Validation Accuracy: 78.00%\n",
      "Improved! Saving model...\n"
     ]
    },
    {
     "name": "stderr",
     "output_type": "stream",
     "text": [
      "100%|██████████| 17/17 [00:07<00:00,  2.14it/s]\n"
     ]
    },
    {
     "name": "stdout",
     "output_type": "stream",
     "text": [
      "Epoch 28/300, Training Loss: 0.5613\n",
      "Validation Loss: 0.5453\n",
      "Validation Accuracy: 72.75%\n"
     ]
    },
    {
     "name": "stderr",
     "output_type": "stream",
     "text": [
      "100%|██████████| 17/17 [00:07<00:00,  2.15it/s]\n"
     ]
    },
    {
     "name": "stdout",
     "output_type": "stream",
     "text": [
      "Epoch 29/300, Training Loss: 0.5640\n",
      "Validation Loss: 0.5361\n",
      "Validation Accuracy: 77.50%\n",
      "Improved! Saving model...\n"
     ]
    },
    {
     "name": "stderr",
     "output_type": "stream",
     "text": [
      "100%|██████████| 17/17 [00:07<00:00,  2.14it/s]\n"
     ]
    },
    {
     "name": "stdout",
     "output_type": "stream",
     "text": [
      "Epoch 30/300, Training Loss: 0.5487\n",
      "Validation Loss: 0.5322\n",
      "Validation Accuracy: 73.75%\n",
      "Improved! Saving model...\n"
     ]
    },
    {
     "name": "stderr",
     "output_type": "stream",
     "text": [
      "100%|██████████| 17/17 [00:07<00:00,  2.14it/s]\n"
     ]
    },
    {
     "name": "stdout",
     "output_type": "stream",
     "text": [
      "Epoch 31/300, Training Loss: 0.5439\n",
      "Validation Loss: 0.5254\n",
      "Validation Accuracy: 78.50%\n",
      "Improved! Saving model...\n"
     ]
    },
    {
     "name": "stderr",
     "output_type": "stream",
     "text": [
      "100%|██████████| 17/17 [00:08<00:00,  2.12it/s]\n"
     ]
    },
    {
     "name": "stdout",
     "output_type": "stream",
     "text": [
      "Epoch 32/300, Training Loss: 0.5327\n",
      "Validation Loss: 0.5261\n",
      "Validation Accuracy: 74.75%\n"
     ]
    },
    {
     "name": "stderr",
     "output_type": "stream",
     "text": [
      "100%|██████████| 17/17 [00:07<00:00,  2.14it/s]\n"
     ]
    },
    {
     "name": "stdout",
     "output_type": "stream",
     "text": [
      "Epoch 33/300, Training Loss: 0.5268\n",
      "Validation Loss: 0.5123\n",
      "Validation Accuracy: 79.00%\n",
      "Improved! Saving model...\n"
     ]
    },
    {
     "name": "stderr",
     "output_type": "stream",
     "text": [
      "100%|██████████| 17/17 [00:07<00:00,  2.13it/s]\n"
     ]
    },
    {
     "name": "stdout",
     "output_type": "stream",
     "text": [
      "Epoch 34/300, Training Loss: 0.5211\n",
      "Validation Loss: 0.5084\n",
      "Validation Accuracy: 79.50%\n",
      "Improved! Saving model...\n"
     ]
    },
    {
     "name": "stderr",
     "output_type": "stream",
     "text": [
      "100%|██████████| 17/17 [00:07<00:00,  2.13it/s]\n"
     ]
    },
    {
     "name": "stdout",
     "output_type": "stream",
     "text": [
      "Epoch 35/300, Training Loss: 0.5161\n",
      "Validation Loss: 0.4997\n",
      "Validation Accuracy: 79.50%\n",
      "Improved! Saving model...\n"
     ]
    },
    {
     "name": "stderr",
     "output_type": "stream",
     "text": [
      "100%|██████████| 17/17 [00:07<00:00,  2.20it/s]\n"
     ]
    },
    {
     "name": "stdout",
     "output_type": "stream",
     "text": [
      "Epoch 36/300, Training Loss: 0.5109\n",
      "Validation Loss: 0.5010\n",
      "Validation Accuracy: 80.50%\n"
     ]
    },
    {
     "name": "stderr",
     "output_type": "stream",
     "text": [
      "100%|██████████| 17/17 [00:07<00:00,  2.15it/s]\n"
     ]
    },
    {
     "name": "stdout",
     "output_type": "stream",
     "text": [
      "Epoch 37/300, Training Loss: 0.5053\n",
      "Validation Loss: 0.4960\n",
      "Validation Accuracy: 79.00%\n",
      "Improved! Saving model...\n"
     ]
    },
    {
     "name": "stderr",
     "output_type": "stream",
     "text": [
      "100%|██████████| 17/17 [00:07<00:00,  2.15it/s]\n"
     ]
    },
    {
     "name": "stdout",
     "output_type": "stream",
     "text": [
      "Epoch 38/300, Training Loss: 0.4965\n",
      "Validation Loss: 0.4858\n",
      "Validation Accuracy: 81.75%\n",
      "Improved! Saving model...\n"
     ]
    },
    {
     "name": "stderr",
     "output_type": "stream",
     "text": [
      "100%|██████████| 17/17 [00:07<00:00,  2.14it/s]\n"
     ]
    },
    {
     "name": "stdout",
     "output_type": "stream",
     "text": [
      "Epoch 39/300, Training Loss: 0.4912\n",
      "Validation Loss: 0.4820\n",
      "Validation Accuracy: 80.00%\n",
      "Improved! Saving model...\n"
     ]
    },
    {
     "name": "stderr",
     "output_type": "stream",
     "text": [
      "100%|██████████| 17/17 [00:08<00:00,  1.98it/s]\n"
     ]
    },
    {
     "name": "stdout",
     "output_type": "stream",
     "text": [
      "Epoch 40/300, Training Loss: 0.4858\n",
      "Validation Loss: 0.4774\n",
      "Validation Accuracy: 79.00%\n",
      "Improved! Saving model...\n"
     ]
    },
    {
     "name": "stderr",
     "output_type": "stream",
     "text": [
      "100%|██████████| 17/17 [00:08<00:00,  1.98it/s]\n"
     ]
    },
    {
     "name": "stdout",
     "output_type": "stream",
     "text": [
      "Epoch 41/300, Training Loss: 0.4803\n",
      "Validation Loss: 0.4738\n",
      "Validation Accuracy: 80.75%\n",
      "Improved! Saving model...\n"
     ]
    },
    {
     "name": "stderr",
     "output_type": "stream",
     "text": [
      "100%|██████████| 17/17 [00:08<00:00,  2.02it/s]\n"
     ]
    },
    {
     "name": "stdout",
     "output_type": "stream",
     "text": [
      "Epoch 42/300, Training Loss: 0.4700\n",
      "Validation Loss: 0.4698\n",
      "Validation Accuracy: 79.25%\n",
      "Improved! Saving model...\n"
     ]
    },
    {
     "name": "stderr",
     "output_type": "stream",
     "text": [
      "100%|██████████| 17/17 [00:08<00:00,  2.02it/s]\n"
     ]
    },
    {
     "name": "stdout",
     "output_type": "stream",
     "text": [
      "Epoch 43/300, Training Loss: 0.4681\n",
      "Validation Loss: 0.4674\n",
      "Validation Accuracy: 80.00%\n",
      "Improved! Saving model...\n"
     ]
    },
    {
     "name": "stderr",
     "output_type": "stream",
     "text": [
      "100%|██████████| 17/17 [00:08<00:00,  2.05it/s]\n"
     ]
    },
    {
     "name": "stdout",
     "output_type": "stream",
     "text": [
      "Epoch 44/300, Training Loss: 0.4636\n",
      "Validation Loss: 0.4656\n",
      "Validation Accuracy: 79.75%\n",
      "Improved! Saving model...\n"
     ]
    },
    {
     "name": "stderr",
     "output_type": "stream",
     "text": [
      "100%|██████████| 17/17 [00:08<00:00,  2.00it/s]\n"
     ]
    },
    {
     "name": "stdout",
     "output_type": "stream",
     "text": [
      "Epoch 45/300, Training Loss: 0.4566\n",
      "Validation Loss: 0.4576\n",
      "Validation Accuracy: 82.50%\n",
      "Improved! Saving model...\n"
     ]
    },
    {
     "name": "stderr",
     "output_type": "stream",
     "text": [
      "100%|██████████| 17/17 [00:08<00:00,  2.05it/s]\n"
     ]
    },
    {
     "name": "stdout",
     "output_type": "stream",
     "text": [
      "Epoch 46/300, Training Loss: 0.4444\n",
      "Validation Loss: 0.4546\n",
      "Validation Accuracy: 80.50%\n",
      "Improved! Saving model...\n"
     ]
    },
    {
     "name": "stderr",
     "output_type": "stream",
     "text": [
      "100%|██████████| 17/17 [00:08<00:00,  2.01it/s]\n"
     ]
    },
    {
     "name": "stdout",
     "output_type": "stream",
     "text": [
      "Epoch 47/300, Training Loss: 0.4449\n",
      "Validation Loss: 0.4516\n",
      "Validation Accuracy: 82.25%\n",
      "Improved! Saving model...\n"
     ]
    },
    {
     "name": "stderr",
     "output_type": "stream",
     "text": [
      "100%|██████████| 17/17 [00:08<00:00,  1.99it/s]\n"
     ]
    },
    {
     "name": "stdout",
     "output_type": "stream",
     "text": [
      "Epoch 48/300, Training Loss: 0.4400\n",
      "Validation Loss: 0.4514\n",
      "Validation Accuracy: 81.75%\n",
      "Improved! Saving model...\n"
     ]
    },
    {
     "name": "stderr",
     "output_type": "stream",
     "text": [
      "100%|██████████| 17/17 [00:08<00:00,  1.99it/s]\n"
     ]
    },
    {
     "name": "stdout",
     "output_type": "stream",
     "text": [
      "Epoch 49/300, Training Loss: 0.4269\n",
      "Validation Loss: 0.4444\n",
      "Validation Accuracy: 83.25%\n",
      "Improved! Saving model...\n"
     ]
    },
    {
     "name": "stderr",
     "output_type": "stream",
     "text": [
      "100%|██████████| 17/17 [00:08<00:00,  1.98it/s]\n"
     ]
    },
    {
     "name": "stdout",
     "output_type": "stream",
     "text": [
      "Epoch 50/300, Training Loss: 0.4272\n",
      "Validation Loss: 0.4413\n",
      "Validation Accuracy: 82.00%\n",
      "Improved! Saving model...\n"
     ]
    },
    {
     "name": "stderr",
     "output_type": "stream",
     "text": [
      "100%|██████████| 17/17 [00:08<00:00,  1.99it/s]\n"
     ]
    },
    {
     "name": "stdout",
     "output_type": "stream",
     "text": [
      "Epoch 51/300, Training Loss: 0.4233\n",
      "Validation Loss: 0.4332\n",
      "Validation Accuracy: 80.75%\n",
      "Improved! Saving model...\n"
     ]
    },
    {
     "name": "stderr",
     "output_type": "stream",
     "text": [
      "100%|██████████| 17/17 [00:08<00:00,  2.01it/s]\n"
     ]
    },
    {
     "name": "stdout",
     "output_type": "stream",
     "text": [
      "Epoch 52/300, Training Loss: 0.4164\n",
      "Validation Loss: 0.4324\n",
      "Validation Accuracy: 82.75%\n",
      "Improved! Saving model...\n"
     ]
    },
    {
     "name": "stderr",
     "output_type": "stream",
     "text": [
      "100%|██████████| 17/17 [00:08<00:00,  2.00it/s]\n"
     ]
    },
    {
     "name": "stdout",
     "output_type": "stream",
     "text": [
      "Epoch 53/300, Training Loss: 0.4146\n",
      "Validation Loss: 0.4312\n",
      "Validation Accuracy: 82.75%\n",
      "Improved! Saving model...\n"
     ]
    },
    {
     "name": "stderr",
     "output_type": "stream",
     "text": [
      "100%|██████████| 17/17 [00:08<00:00,  2.03it/s]\n"
     ]
    },
    {
     "name": "stdout",
     "output_type": "stream",
     "text": [
      "Epoch 54/300, Training Loss: 0.4088\n",
      "Validation Loss: 0.4283\n",
      "Validation Accuracy: 80.75%\n",
      "Improved! Saving model...\n"
     ]
    },
    {
     "name": "stderr",
     "output_type": "stream",
     "text": [
      "100%|██████████| 17/17 [00:08<00:00,  1.99it/s]\n"
     ]
    },
    {
     "name": "stdout",
     "output_type": "stream",
     "text": [
      "Epoch 55/300, Training Loss: 0.3979\n",
      "Validation Loss: 0.4263\n",
      "Validation Accuracy: 84.75%\n",
      "Improved! Saving model...\n"
     ]
    },
    {
     "name": "stderr",
     "output_type": "stream",
     "text": [
      "100%|██████████| 17/17 [00:08<00:00,  2.00it/s]\n"
     ]
    },
    {
     "name": "stdout",
     "output_type": "stream",
     "text": [
      "Epoch 56/300, Training Loss: 0.4019\n",
      "Validation Loss: 0.4189\n",
      "Validation Accuracy: 84.75%\n",
      "Improved! Saving model...\n"
     ]
    },
    {
     "name": "stderr",
     "output_type": "stream",
     "text": [
      "100%|██████████| 17/17 [00:08<00:00,  2.00it/s]\n"
     ]
    },
    {
     "name": "stdout",
     "output_type": "stream",
     "text": [
      "Epoch 57/300, Training Loss: 0.3914\n",
      "Validation Loss: 0.4171\n",
      "Validation Accuracy: 82.00%\n",
      "Improved! Saving model...\n"
     ]
    },
    {
     "name": "stderr",
     "output_type": "stream",
     "text": [
      "100%|██████████| 17/17 [00:08<00:00,  2.01it/s]\n"
     ]
    },
    {
     "name": "stdout",
     "output_type": "stream",
     "text": [
      "Epoch 58/300, Training Loss: 0.3866\n",
      "Validation Loss: 0.4179\n",
      "Validation Accuracy: 83.25%\n"
     ]
    },
    {
     "name": "stderr",
     "output_type": "stream",
     "text": [
      "100%|██████████| 17/17 [00:08<00:00,  2.00it/s]\n"
     ]
    },
    {
     "name": "stdout",
     "output_type": "stream",
     "text": [
      "Epoch 59/300, Training Loss: 0.3895\n",
      "Validation Loss: 0.4147\n",
      "Validation Accuracy: 82.25%\n",
      "Improved! Saving model...\n"
     ]
    },
    {
     "name": "stderr",
     "output_type": "stream",
     "text": [
      "100%|██████████| 17/17 [00:08<00:00,  2.00it/s]\n"
     ]
    },
    {
     "name": "stdout",
     "output_type": "stream",
     "text": [
      "Epoch 60/300, Training Loss: 0.3780\n",
      "Validation Loss: 0.4140\n",
      "Validation Accuracy: 81.00%\n",
      "Improved! Saving model...\n"
     ]
    },
    {
     "name": "stderr",
     "output_type": "stream",
     "text": [
      "100%|██████████| 17/17 [00:08<00:00,  1.99it/s]\n"
     ]
    },
    {
     "name": "stdout",
     "output_type": "stream",
     "text": [
      "Epoch 61/300, Training Loss: 0.3740\n",
      "Validation Loss: 0.4111\n",
      "Validation Accuracy: 82.50%\n",
      "Improved! Saving model...\n"
     ]
    },
    {
     "name": "stderr",
     "output_type": "stream",
     "text": [
      "100%|██████████| 17/17 [00:08<00:00,  2.02it/s]\n"
     ]
    },
    {
     "name": "stdout",
     "output_type": "stream",
     "text": [
      "Epoch 62/300, Training Loss: 0.3680\n",
      "Validation Loss: 0.4020\n",
      "Validation Accuracy: 83.75%\n",
      "Improved! Saving model...\n"
     ]
    },
    {
     "name": "stderr",
     "output_type": "stream",
     "text": [
      "100%|██████████| 17/17 [00:08<00:00,  1.99it/s]\n"
     ]
    },
    {
     "name": "stdout",
     "output_type": "stream",
     "text": [
      "Epoch 63/300, Training Loss: 0.3654\n",
      "Validation Loss: 0.4016\n",
      "Validation Accuracy: 84.75%\n",
      "Improved! Saving model...\n"
     ]
    },
    {
     "name": "stderr",
     "output_type": "stream",
     "text": [
      "100%|██████████| 17/17 [00:08<00:00,  2.00it/s]\n"
     ]
    },
    {
     "name": "stdout",
     "output_type": "stream",
     "text": [
      "Epoch 64/300, Training Loss: 0.3672\n",
      "Validation Loss: 0.4005\n",
      "Validation Accuracy: 83.50%\n",
      "Improved! Saving model...\n"
     ]
    },
    {
     "name": "stderr",
     "output_type": "stream",
     "text": [
      "100%|██████████| 17/17 [00:08<00:00,  1.99it/s]\n"
     ]
    },
    {
     "name": "stdout",
     "output_type": "stream",
     "text": [
      "Epoch 65/300, Training Loss: 0.3629\n",
      "Validation Loss: 0.4000\n",
      "Validation Accuracy: 83.75%\n",
      "Improved! Saving model...\n"
     ]
    },
    {
     "name": "stderr",
     "output_type": "stream",
     "text": [
      "100%|██████████| 17/17 [00:08<00:00,  2.00it/s]\n"
     ]
    },
    {
     "name": "stdout",
     "output_type": "stream",
     "text": [
      "Epoch 66/300, Training Loss: 0.3548\n",
      "Validation Loss: 0.3935\n",
      "Validation Accuracy: 81.25%\n",
      "Improved! Saving model...\n"
     ]
    },
    {
     "name": "stderr",
     "output_type": "stream",
     "text": [
      "100%|██████████| 17/17 [00:08<00:00,  1.99it/s]\n"
     ]
    },
    {
     "name": "stdout",
     "output_type": "stream",
     "text": [
      "Epoch 67/300, Training Loss: 0.3506\n",
      "Validation Loss: 0.3867\n",
      "Validation Accuracy: 83.75%\n",
      "Improved! Saving model...\n"
     ]
    },
    {
     "name": "stderr",
     "output_type": "stream",
     "text": [
      "100%|██████████| 17/17 [00:08<00:00,  2.02it/s]\n"
     ]
    },
    {
     "name": "stdout",
     "output_type": "stream",
     "text": [
      "Epoch 68/300, Training Loss: 0.3467\n",
      "Validation Loss: 0.3876\n",
      "Validation Accuracy: 82.00%\n"
     ]
    },
    {
     "name": "stderr",
     "output_type": "stream",
     "text": [
      "100%|██████████| 17/17 [00:08<00:00,  1.99it/s]\n"
     ]
    },
    {
     "name": "stdout",
     "output_type": "stream",
     "text": [
      "Epoch 69/300, Training Loss: 0.3417\n",
      "Validation Loss: 0.3843\n",
      "Validation Accuracy: 85.50%\n",
      "Improved! Saving model...\n"
     ]
    },
    {
     "name": "stderr",
     "output_type": "stream",
     "text": [
      "100%|██████████| 17/17 [00:08<00:00,  2.00it/s]\n"
     ]
    },
    {
     "name": "stdout",
     "output_type": "stream",
     "text": [
      "Epoch 70/300, Training Loss: 0.3398\n",
      "Validation Loss: 0.3842\n",
      "Validation Accuracy: 83.50%\n",
      "Improved! Saving model...\n"
     ]
    },
    {
     "name": "stderr",
     "output_type": "stream",
     "text": [
      "100%|██████████| 17/17 [00:08<00:00,  1.99it/s]\n"
     ]
    },
    {
     "name": "stdout",
     "output_type": "stream",
     "text": [
      "Epoch 71/300, Training Loss: 0.3377\n",
      "Validation Loss: 0.3738\n",
      "Validation Accuracy: 85.50%\n",
      "Improved! Saving model...\n"
     ]
    },
    {
     "name": "stderr",
     "output_type": "stream",
     "text": [
      "100%|██████████| 17/17 [00:08<00:00,  1.99it/s]\n"
     ]
    },
    {
     "name": "stdout",
     "output_type": "stream",
     "text": [
      "Epoch 72/300, Training Loss: 0.3322\n",
      "Validation Loss: 0.3740\n",
      "Validation Accuracy: 85.25%\n"
     ]
    },
    {
     "name": "stderr",
     "output_type": "stream",
     "text": [
      "100%|██████████| 17/17 [00:08<00:00,  1.99it/s]\n"
     ]
    },
    {
     "name": "stdout",
     "output_type": "stream",
     "text": [
      "Epoch 73/300, Training Loss: 0.3286\n",
      "Validation Loss: 0.3795\n",
      "Validation Accuracy: 82.00%\n"
     ]
    },
    {
     "name": "stderr",
     "output_type": "stream",
     "text": [
      "100%|██████████| 17/17 [00:08<00:00,  1.99it/s]\n"
     ]
    },
    {
     "name": "stdout",
     "output_type": "stream",
     "text": [
      "Epoch 74/300, Training Loss: 0.3273\n",
      "Validation Loss: 0.3736\n",
      "Validation Accuracy: 85.50%\n",
      "Improved! Saving model...\n"
     ]
    },
    {
     "name": "stderr",
     "output_type": "stream",
     "text": [
      "100%|██████████| 17/17 [00:08<00:00,  1.99it/s]\n"
     ]
    },
    {
     "name": "stdout",
     "output_type": "stream",
     "text": [
      "Epoch 75/300, Training Loss: 0.3232\n",
      "Validation Loss: 0.3671\n",
      "Validation Accuracy: 83.25%\n",
      "Improved! Saving model...\n"
     ]
    },
    {
     "name": "stderr",
     "output_type": "stream",
     "text": [
      "100%|██████████| 17/17 [00:08<00:00,  2.00it/s]\n"
     ]
    },
    {
     "name": "stdout",
     "output_type": "stream",
     "text": [
      "Epoch 76/300, Training Loss: 0.3164\n",
      "Validation Loss: 0.3621\n",
      "Validation Accuracy: 86.00%\n",
      "Improved! Saving model...\n"
     ]
    },
    {
     "name": "stderr",
     "output_type": "stream",
     "text": [
      "100%|██████████| 17/17 [00:08<00:00,  2.00it/s]\n"
     ]
    },
    {
     "name": "stdout",
     "output_type": "stream",
     "text": [
      "Epoch 77/300, Training Loss: 0.3156\n",
      "Validation Loss: 0.3649\n",
      "Validation Accuracy: 84.75%\n"
     ]
    },
    {
     "name": "stderr",
     "output_type": "stream",
     "text": [
      "100%|██████████| 17/17 [00:08<00:00,  2.00it/s]\n"
     ]
    },
    {
     "name": "stdout",
     "output_type": "stream",
     "text": [
      "Epoch 78/300, Training Loss: 0.3158\n",
      "Validation Loss: 0.3650\n",
      "Validation Accuracy: 82.75%\n"
     ]
    },
    {
     "name": "stderr",
     "output_type": "stream",
     "text": [
      "100%|██████████| 17/17 [00:08<00:00,  1.99it/s]\n"
     ]
    },
    {
     "name": "stdout",
     "output_type": "stream",
     "text": [
      "Epoch 79/300, Training Loss: 0.3104\n",
      "Validation Loss: 0.3551\n",
      "Validation Accuracy: 84.50%\n",
      "Improved! Saving model...\n"
     ]
    },
    {
     "name": "stderr",
     "output_type": "stream",
     "text": [
      "100%|██████████| 17/17 [00:08<00:00,  2.00it/s]\n"
     ]
    },
    {
     "name": "stdout",
     "output_type": "stream",
     "text": [
      "Epoch 80/300, Training Loss: 0.3100\n",
      "Validation Loss: 0.3593\n",
      "Validation Accuracy: 84.00%\n"
     ]
    },
    {
     "name": "stderr",
     "output_type": "stream",
     "text": [
      "100%|██████████| 17/17 [00:08<00:00,  1.99it/s]\n"
     ]
    },
    {
     "name": "stdout",
     "output_type": "stream",
     "text": [
      "Epoch 81/300, Training Loss: 0.3070\n",
      "Validation Loss: 0.3582\n",
      "Validation Accuracy: 85.00%\n"
     ]
    },
    {
     "name": "stderr",
     "output_type": "stream",
     "text": [
      "100%|██████████| 17/17 [00:08<00:00,  1.99it/s]\n"
     ]
    },
    {
     "name": "stdout",
     "output_type": "stream",
     "text": [
      "Epoch 82/300, Training Loss: 0.2976\n",
      "Validation Loss: 0.3669\n",
      "Validation Accuracy: 82.75%\n"
     ]
    },
    {
     "name": "stderr",
     "output_type": "stream",
     "text": [
      "100%|██████████| 17/17 [00:08<00:00,  2.01it/s]\n"
     ]
    },
    {
     "name": "stdout",
     "output_type": "stream",
     "text": [
      "Epoch 83/300, Training Loss: 0.2988\n",
      "Validation Loss: 0.3515\n",
      "Validation Accuracy: 85.00%\n",
      "Improved! Saving model...\n"
     ]
    },
    {
     "name": "stderr",
     "output_type": "stream",
     "text": [
      "100%|██████████| 17/17 [00:08<00:00,  2.02it/s]\n"
     ]
    },
    {
     "name": "stdout",
     "output_type": "stream",
     "text": [
      "Epoch 84/300, Training Loss: 0.2926\n",
      "Validation Loss: 0.3545\n",
      "Validation Accuracy: 83.25%\n"
     ]
    },
    {
     "name": "stderr",
     "output_type": "stream",
     "text": [
      "100%|██████████| 17/17 [00:08<00:00,  2.00it/s]\n"
     ]
    },
    {
     "name": "stdout",
     "output_type": "stream",
     "text": [
      "Epoch 85/300, Training Loss: 0.2907\n",
      "Validation Loss: 0.3507\n",
      "Validation Accuracy: 85.00%\n",
      "Improved! Saving model...\n"
     ]
    },
    {
     "name": "stderr",
     "output_type": "stream",
     "text": [
      "100%|██████████| 17/17 [00:08<00:00,  2.01it/s]\n"
     ]
    },
    {
     "name": "stdout",
     "output_type": "stream",
     "text": [
      "Epoch 86/300, Training Loss: 0.2924\n",
      "Validation Loss: 0.3448\n",
      "Validation Accuracy: 85.25%\n",
      "Improved! Saving model...\n"
     ]
    },
    {
     "name": "stderr",
     "output_type": "stream",
     "text": [
      "100%|██████████| 17/17 [00:08<00:00,  2.01it/s]\n"
     ]
    },
    {
     "name": "stdout",
     "output_type": "stream",
     "text": [
      "Epoch 87/300, Training Loss: 0.2899\n",
      "Validation Loss: 0.3381\n",
      "Validation Accuracy: 87.00%\n",
      "Improved! Saving model...\n"
     ]
    },
    {
     "name": "stderr",
     "output_type": "stream",
     "text": [
      "100%|██████████| 17/17 [00:08<00:00,  2.02it/s]\n"
     ]
    },
    {
     "name": "stdout",
     "output_type": "stream",
     "text": [
      "Epoch 88/300, Training Loss: 0.2822\n",
      "Validation Loss: 0.3367\n",
      "Validation Accuracy: 85.75%\n",
      "Improved! Saving model...\n"
     ]
    },
    {
     "name": "stderr",
     "output_type": "stream",
     "text": [
      "100%|██████████| 17/17 [00:08<00:00,  2.01it/s]\n"
     ]
    },
    {
     "name": "stdout",
     "output_type": "stream",
     "text": [
      "Epoch 89/300, Training Loss: 0.2805\n",
      "Validation Loss: 0.3484\n",
      "Validation Accuracy: 85.75%\n"
     ]
    },
    {
     "name": "stderr",
     "output_type": "stream",
     "text": [
      "100%|██████████| 17/17 [00:08<00:00,  2.01it/s]\n"
     ]
    },
    {
     "name": "stdout",
     "output_type": "stream",
     "text": [
      "Epoch 90/300, Training Loss: 0.2765\n",
      "Validation Loss: 0.3357\n",
      "Validation Accuracy: 87.00%\n",
      "Improved! Saving model...\n"
     ]
    },
    {
     "name": "stderr",
     "output_type": "stream",
     "text": [
      "100%|██████████| 17/17 [00:08<00:00,  2.01it/s]\n"
     ]
    },
    {
     "name": "stdout",
     "output_type": "stream",
     "text": [
      "Epoch 91/300, Training Loss: 0.2756\n",
      "Validation Loss: 0.3296\n",
      "Validation Accuracy: 86.50%\n",
      "Improved! Saving model...\n"
     ]
    },
    {
     "name": "stderr",
     "output_type": "stream",
     "text": [
      "100%|██████████| 17/17 [00:08<00:00,  2.01it/s]\n"
     ]
    },
    {
     "name": "stdout",
     "output_type": "stream",
     "text": [
      "Epoch 92/300, Training Loss: 0.2774\n",
      "Validation Loss: 0.3293\n",
      "Validation Accuracy: 86.75%\n",
      "Improved! Saving model...\n"
     ]
    },
    {
     "name": "stderr",
     "output_type": "stream",
     "text": [
      "100%|██████████| 17/17 [00:08<00:00,  2.01it/s]\n"
     ]
    },
    {
     "name": "stdout",
     "output_type": "stream",
     "text": [
      "Epoch 93/300, Training Loss: 0.2705\n",
      "Validation Loss: 0.3397\n",
      "Validation Accuracy: 85.25%\n"
     ]
    },
    {
     "name": "stderr",
     "output_type": "stream",
     "text": [
      "100%|██████████| 17/17 [00:08<00:00,  2.01it/s]\n"
     ]
    },
    {
     "name": "stdout",
     "output_type": "stream",
     "text": [
      "Epoch 94/300, Training Loss: 0.2669\n",
      "Validation Loss: 0.3306\n",
      "Validation Accuracy: 85.25%\n"
     ]
    },
    {
     "name": "stderr",
     "output_type": "stream",
     "text": [
      "100%|██████████| 17/17 [00:08<00:00,  2.01it/s]\n"
     ]
    },
    {
     "name": "stdout",
     "output_type": "stream",
     "text": [
      "Epoch 95/300, Training Loss: 0.2664\n",
      "Validation Loss: 0.3238\n",
      "Validation Accuracy: 86.50%\n",
      "Improved! Saving model...\n"
     ]
    },
    {
     "name": "stderr",
     "output_type": "stream",
     "text": [
      "100%|██████████| 17/17 [00:08<00:00,  2.02it/s]\n"
     ]
    },
    {
     "name": "stdout",
     "output_type": "stream",
     "text": [
      "Epoch 96/300, Training Loss: 0.2625\n",
      "Validation Loss: 0.3272\n",
      "Validation Accuracy: 88.25%\n"
     ]
    },
    {
     "name": "stderr",
     "output_type": "stream",
     "text": [
      "100%|██████████| 17/17 [00:08<00:00,  2.00it/s]\n"
     ]
    },
    {
     "name": "stdout",
     "output_type": "stream",
     "text": [
      "Epoch 97/300, Training Loss: 0.2599\n",
      "Validation Loss: 0.3250\n",
      "Validation Accuracy: 85.25%\n"
     ]
    },
    {
     "name": "stderr",
     "output_type": "stream",
     "text": [
      "100%|██████████| 17/17 [00:08<00:00,  2.08it/s]\n"
     ]
    },
    {
     "name": "stdout",
     "output_type": "stream",
     "text": [
      "Epoch 98/300, Training Loss: 0.2573\n",
      "Validation Loss: 0.3236\n",
      "Validation Accuracy: 86.75%\n",
      "Improved! Saving model...\n"
     ]
    },
    {
     "name": "stderr",
     "output_type": "stream",
     "text": [
      "100%|██████████| 17/17 [00:08<00:00,  2.01it/s]\n"
     ]
    },
    {
     "name": "stdout",
     "output_type": "stream",
     "text": [
      "Epoch 99/300, Training Loss: 0.2604\n",
      "Validation Loss: 0.3219\n",
      "Validation Accuracy: 86.50%\n",
      "Improved! Saving model...\n"
     ]
    },
    {
     "name": "stderr",
     "output_type": "stream",
     "text": [
      "100%|██████████| 17/17 [00:08<00:00,  2.08it/s]\n"
     ]
    },
    {
     "name": "stdout",
     "output_type": "stream",
     "text": [
      "Epoch 100/300, Training Loss: 0.2549\n",
      "Validation Loss: 0.3228\n",
      "Validation Accuracy: 85.50%\n"
     ]
    },
    {
     "name": "stderr",
     "output_type": "stream",
     "text": [
      "100%|██████████| 17/17 [00:08<00:00,  2.10it/s]\n"
     ]
    },
    {
     "name": "stdout",
     "output_type": "stream",
     "text": [
      "Epoch 101/300, Training Loss: 0.2524\n",
      "Validation Loss: 0.3166\n",
      "Validation Accuracy: 85.75%\n",
      "Improved! Saving model...\n"
     ]
    },
    {
     "name": "stderr",
     "output_type": "stream",
     "text": [
      "100%|██████████| 17/17 [00:08<00:00,  2.07it/s]\n"
     ]
    },
    {
     "name": "stdout",
     "output_type": "stream",
     "text": [
      "Epoch 102/300, Training Loss: 0.2486\n",
      "Validation Loss: 0.3208\n",
      "Validation Accuracy: 88.25%\n"
     ]
    },
    {
     "name": "stderr",
     "output_type": "stream",
     "text": [
      "100%|██████████| 17/17 [00:08<00:00,  2.03it/s]\n"
     ]
    },
    {
     "name": "stdout",
     "output_type": "stream",
     "text": [
      "Epoch 103/300, Training Loss: 0.2477\n",
      "Validation Loss: 0.3130\n",
      "Validation Accuracy: 87.75%\n",
      "Improved! Saving model...\n"
     ]
    },
    {
     "name": "stderr",
     "output_type": "stream",
     "text": [
      "100%|██████████| 17/17 [00:08<00:00,  2.09it/s]\n"
     ]
    },
    {
     "name": "stdout",
     "output_type": "stream",
     "text": [
      "Epoch 104/300, Training Loss: 0.2434\n",
      "Validation Loss: 0.3072\n",
      "Validation Accuracy: 86.75%\n",
      "Improved! Saving model...\n"
     ]
    },
    {
     "name": "stderr",
     "output_type": "stream",
     "text": [
      "100%|██████████| 17/17 [00:08<00:00,  2.10it/s]\n"
     ]
    },
    {
     "name": "stdout",
     "output_type": "stream",
     "text": [
      "Epoch 105/300, Training Loss: 0.2381\n",
      "Validation Loss: 0.3119\n",
      "Validation Accuracy: 86.50%\n"
     ]
    },
    {
     "name": "stderr",
     "output_type": "stream",
     "text": [
      "100%|██████████| 17/17 [00:08<00:00,  2.11it/s]\n"
     ]
    },
    {
     "name": "stdout",
     "output_type": "stream",
     "text": [
      "Epoch 106/300, Training Loss: 0.2352\n",
      "Validation Loss: 0.3049\n",
      "Validation Accuracy: 89.25%\n",
      "Improved! Saving model...\n"
     ]
    },
    {
     "name": "stderr",
     "output_type": "stream",
     "text": [
      "100%|██████████| 17/17 [00:08<00:00,  2.10it/s]\n"
     ]
    },
    {
     "name": "stdout",
     "output_type": "stream",
     "text": [
      "Epoch 107/300, Training Loss: 0.2363\n",
      "Validation Loss: 0.3151\n",
      "Validation Accuracy: 86.50%\n"
     ]
    },
    {
     "name": "stderr",
     "output_type": "stream",
     "text": [
      "100%|██████████| 17/17 [00:07<00:00,  2.18it/s]\n"
     ]
    },
    {
     "name": "stdout",
     "output_type": "stream",
     "text": [
      "Epoch 108/300, Training Loss: 0.2391\n",
      "Validation Loss: 0.3032\n",
      "Validation Accuracy: 88.00%\n",
      "Improved! Saving model...\n"
     ]
    },
    {
     "name": "stderr",
     "output_type": "stream",
     "text": [
      "100%|██████████| 17/17 [00:07<00:00,  2.18it/s]\n"
     ]
    },
    {
     "name": "stdout",
     "output_type": "stream",
     "text": [
      "Epoch 109/300, Training Loss: 0.2327\n",
      "Validation Loss: 0.3062\n",
      "Validation Accuracy: 86.25%\n"
     ]
    },
    {
     "name": "stderr",
     "output_type": "stream",
     "text": [
      "100%|██████████| 17/17 [00:08<00:00,  2.12it/s]\n"
     ]
    },
    {
     "name": "stdout",
     "output_type": "stream",
     "text": [
      "Epoch 110/300, Training Loss: 0.2311\n",
      "Validation Loss: 0.2992\n",
      "Validation Accuracy: 88.25%\n",
      "Improved! Saving model...\n"
     ]
    },
    {
     "name": "stderr",
     "output_type": "stream",
     "text": [
      "100%|██████████| 17/17 [00:07<00:00,  2.13it/s]\n"
     ]
    },
    {
     "name": "stdout",
     "output_type": "stream",
     "text": [
      "Epoch 111/300, Training Loss: 0.2304\n",
      "Validation Loss: 0.2982\n",
      "Validation Accuracy: 89.50%\n",
      "Improved! Saving model...\n"
     ]
    },
    {
     "name": "stderr",
     "output_type": "stream",
     "text": [
      "100%|██████████| 17/17 [00:07<00:00,  2.14it/s]\n"
     ]
    },
    {
     "name": "stdout",
     "output_type": "stream",
     "text": [
      "Epoch 112/300, Training Loss: 0.2294\n",
      "Validation Loss: 0.3163\n",
      "Validation Accuracy: 86.25%\n"
     ]
    },
    {
     "name": "stderr",
     "output_type": "stream",
     "text": [
      "100%|██████████| 17/17 [00:08<00:00,  2.04it/s]\n"
     ]
    },
    {
     "name": "stdout",
     "output_type": "stream",
     "text": [
      "Epoch 113/300, Training Loss: 0.2297\n",
      "Validation Loss: 0.2950\n",
      "Validation Accuracy: 88.50%\n",
      "Improved! Saving model...\n"
     ]
    },
    {
     "name": "stderr",
     "output_type": "stream",
     "text": [
      "100%|██████████| 17/17 [00:07<00:00,  2.17it/s]\n"
     ]
    },
    {
     "name": "stdout",
     "output_type": "stream",
     "text": [
      "Epoch 114/300, Training Loss: 0.2227\n",
      "Validation Loss: 0.2953\n",
      "Validation Accuracy: 88.25%\n"
     ]
    },
    {
     "name": "stderr",
     "output_type": "stream",
     "text": [
      "100%|██████████| 17/17 [00:07<00:00,  2.17it/s]\n"
     ]
    },
    {
     "name": "stdout",
     "output_type": "stream",
     "text": [
      "Epoch 115/300, Training Loss: 0.2219\n",
      "Validation Loss: 0.2955\n",
      "Validation Accuracy: 86.75%\n"
     ]
    },
    {
     "name": "stderr",
     "output_type": "stream",
     "text": [
      "100%|██████████| 17/17 [00:07<00:00,  2.15it/s]\n"
     ]
    },
    {
     "name": "stdout",
     "output_type": "stream",
     "text": [
      "Epoch 116/300, Training Loss: 0.2176\n",
      "Validation Loss: 0.2933\n",
      "Validation Accuracy: 88.25%\n",
      "Improved! Saving model...\n"
     ]
    },
    {
     "name": "stderr",
     "output_type": "stream",
     "text": [
      "100%|██████████| 17/17 [00:07<00:00,  2.15it/s]\n"
     ]
    },
    {
     "name": "stdout",
     "output_type": "stream",
     "text": [
      "Epoch 117/300, Training Loss: 0.2177\n",
      "Validation Loss: 0.2937\n",
      "Validation Accuracy: 87.75%\n"
     ]
    },
    {
     "name": "stderr",
     "output_type": "stream",
     "text": [
      "100%|██████████| 17/17 [00:07<00:00,  2.15it/s]\n"
     ]
    },
    {
     "name": "stdout",
     "output_type": "stream",
     "text": [
      "Epoch 118/300, Training Loss: 0.2159\n",
      "Validation Loss: 0.2947\n",
      "Validation Accuracy: 87.25%\n"
     ]
    },
    {
     "name": "stderr",
     "output_type": "stream",
     "text": [
      "100%|██████████| 17/17 [00:07<00:00,  2.14it/s]\n"
     ]
    },
    {
     "name": "stdout",
     "output_type": "stream",
     "text": [
      "Epoch 119/300, Training Loss: 0.2120\n",
      "Validation Loss: 0.2969\n",
      "Validation Accuracy: 87.25%\n"
     ]
    },
    {
     "name": "stderr",
     "output_type": "stream",
     "text": [
      "100%|██████████| 17/17 [00:07<00:00,  2.14it/s]\n"
     ]
    },
    {
     "name": "stdout",
     "output_type": "stream",
     "text": [
      "Epoch 120/300, Training Loss: 0.2124\n",
      "Validation Loss: 0.2930\n",
      "Validation Accuracy: 87.75%\n",
      "Improved! Saving model...\n"
     ]
    },
    {
     "name": "stderr",
     "output_type": "stream",
     "text": [
      "100%|██████████| 17/17 [00:07<00:00,  2.15it/s]\n"
     ]
    },
    {
     "name": "stdout",
     "output_type": "stream",
     "text": [
      "Epoch 121/300, Training Loss: 0.2090\n",
      "Validation Loss: 0.2899\n",
      "Validation Accuracy: 88.25%\n",
      "Improved! Saving model...\n"
     ]
    },
    {
     "name": "stderr",
     "output_type": "stream",
     "text": [
      "100%|██████████| 17/17 [00:07<00:00,  2.14it/s]\n"
     ]
    },
    {
     "name": "stdout",
     "output_type": "stream",
     "text": [
      "Epoch 122/300, Training Loss: 0.2085\n",
      "Validation Loss: 0.2910\n",
      "Validation Accuracy: 89.50%\n"
     ]
    },
    {
     "name": "stderr",
     "output_type": "stream",
     "text": [
      "100%|██████████| 17/17 [00:07<00:00,  2.14it/s]\n"
     ]
    },
    {
     "name": "stdout",
     "output_type": "stream",
     "text": [
      "Epoch 123/300, Training Loss: 0.2070\n",
      "Validation Loss: 0.2851\n",
      "Validation Accuracy: 88.50%\n",
      "Improved! Saving model...\n"
     ]
    },
    {
     "name": "stderr",
     "output_type": "stream",
     "text": [
      "100%|██████████| 17/17 [00:07<00:00,  2.14it/s]\n"
     ]
    },
    {
     "name": "stdout",
     "output_type": "stream",
     "text": [
      "Epoch 124/300, Training Loss: 0.2055\n",
      "Validation Loss: 0.2938\n",
      "Validation Accuracy: 87.25%\n"
     ]
    },
    {
     "name": "stderr",
     "output_type": "stream",
     "text": [
      "100%|██████████| 17/17 [00:07<00:00,  2.14it/s]\n"
     ]
    },
    {
     "name": "stdout",
     "output_type": "stream",
     "text": [
      "Epoch 125/300, Training Loss: 0.2040\n",
      "Validation Loss: 0.2952\n",
      "Validation Accuracy: 85.50%\n"
     ]
    },
    {
     "name": "stderr",
     "output_type": "stream",
     "text": [
      "100%|██████████| 17/17 [00:07<00:00,  2.14it/s]\n"
     ]
    },
    {
     "name": "stdout",
     "output_type": "stream",
     "text": [
      "Epoch 126/300, Training Loss: 0.2008\n",
      "Validation Loss: 0.2795\n",
      "Validation Accuracy: 88.00%\n",
      "Improved! Saving model...\n"
     ]
    },
    {
     "name": "stderr",
     "output_type": "stream",
     "text": [
      "100%|██████████| 17/17 [00:07<00:00,  2.14it/s]\n"
     ]
    },
    {
     "name": "stdout",
     "output_type": "stream",
     "text": [
      "Epoch 127/300, Training Loss: 0.1996\n",
      "Validation Loss: 0.2868\n",
      "Validation Accuracy: 88.25%\n"
     ]
    },
    {
     "name": "stderr",
     "output_type": "stream",
     "text": [
      "100%|██████████| 17/17 [00:07<00:00,  2.15it/s]\n"
     ]
    },
    {
     "name": "stdout",
     "output_type": "stream",
     "text": [
      "Epoch 128/300, Training Loss: 0.1994\n",
      "Validation Loss: 0.2744\n",
      "Validation Accuracy: 89.00%\n",
      "Improved! Saving model...\n"
     ]
    },
    {
     "name": "stderr",
     "output_type": "stream",
     "text": [
      "100%|██████████| 17/17 [00:07<00:00,  2.14it/s]\n"
     ]
    },
    {
     "name": "stdout",
     "output_type": "stream",
     "text": [
      "Epoch 129/300, Training Loss: 0.1981\n",
      "Validation Loss: 0.2738\n",
      "Validation Accuracy: 87.75%\n",
      "Improved! Saving model...\n"
     ]
    },
    {
     "name": "stderr",
     "output_type": "stream",
     "text": [
      "100%|██████████| 17/17 [00:07<00:00,  2.14it/s]\n"
     ]
    },
    {
     "name": "stdout",
     "output_type": "stream",
     "text": [
      "Epoch 130/300, Training Loss: 0.1969\n",
      "Validation Loss: 0.2850\n",
      "Validation Accuracy: 88.00%\n"
     ]
    },
    {
     "name": "stderr",
     "output_type": "stream",
     "text": [
      "100%|██████████| 17/17 [00:07<00:00,  2.14it/s]\n"
     ]
    },
    {
     "name": "stdout",
     "output_type": "stream",
     "text": [
      "Epoch 131/300, Training Loss: 0.1915\n",
      "Validation Loss: 0.2713\n",
      "Validation Accuracy: 89.00%\n",
      "Improved! Saving model...\n"
     ]
    },
    {
     "name": "stderr",
     "output_type": "stream",
     "text": [
      "100%|██████████| 17/17 [00:07<00:00,  2.14it/s]\n"
     ]
    },
    {
     "name": "stdout",
     "output_type": "stream",
     "text": [
      "Epoch 132/300, Training Loss: 0.1913\n",
      "Validation Loss: 0.2766\n",
      "Validation Accuracy: 88.75%\n"
     ]
    },
    {
     "name": "stderr",
     "output_type": "stream",
     "text": [
      "100%|██████████| 17/17 [00:07<00:00,  2.14it/s]\n"
     ]
    },
    {
     "name": "stdout",
     "output_type": "stream",
     "text": [
      "Epoch 133/300, Training Loss: 0.1955\n",
      "Validation Loss: 0.2818\n",
      "Validation Accuracy: 88.50%\n"
     ]
    },
    {
     "name": "stderr",
     "output_type": "stream",
     "text": [
      "100%|██████████| 17/17 [00:07<00:00,  2.14it/s]\n"
     ]
    },
    {
     "name": "stdout",
     "output_type": "stream",
     "text": [
      "Epoch 134/300, Training Loss: 0.1914\n",
      "Validation Loss: 0.2705\n",
      "Validation Accuracy: 88.25%\n",
      "Improved! Saving model...\n"
     ]
    },
    {
     "name": "stderr",
     "output_type": "stream",
     "text": [
      "100%|██████████| 17/17 [00:07<00:00,  2.14it/s]\n"
     ]
    },
    {
     "name": "stdout",
     "output_type": "stream",
     "text": [
      "Epoch 135/300, Training Loss: 0.1883\n",
      "Validation Loss: 0.2716\n",
      "Validation Accuracy: 88.75%\n"
     ]
    },
    {
     "name": "stderr",
     "output_type": "stream",
     "text": [
      "100%|██████████| 17/17 [00:07<00:00,  2.14it/s]\n"
     ]
    },
    {
     "name": "stdout",
     "output_type": "stream",
     "text": [
      "Epoch 136/300, Training Loss: 0.1868\n",
      "Validation Loss: 0.2617\n",
      "Validation Accuracy: 89.00%\n",
      "Improved! Saving model...\n"
     ]
    },
    {
     "name": "stderr",
     "output_type": "stream",
     "text": [
      "100%|██████████| 17/17 [00:07<00:00,  2.14it/s]\n"
     ]
    },
    {
     "name": "stdout",
     "output_type": "stream",
     "text": [
      "Epoch 137/300, Training Loss: 0.1865\n",
      "Validation Loss: 0.2663\n",
      "Validation Accuracy: 90.75%\n"
     ]
    },
    {
     "name": "stderr",
     "output_type": "stream",
     "text": [
      "100%|██████████| 17/17 [00:07<00:00,  2.15it/s]\n"
     ]
    },
    {
     "name": "stdout",
     "output_type": "stream",
     "text": [
      "Epoch 138/300, Training Loss: 0.1830\n",
      "Validation Loss: 0.2642\n",
      "Validation Accuracy: 90.25%\n"
     ]
    },
    {
     "name": "stderr",
     "output_type": "stream",
     "text": [
      "100%|██████████| 17/17 [00:07<00:00,  2.14it/s]\n"
     ]
    },
    {
     "name": "stdout",
     "output_type": "stream",
     "text": [
      "Epoch 139/300, Training Loss: 0.1823\n",
      "Validation Loss: 0.2664\n",
      "Validation Accuracy: 90.00%\n"
     ]
    },
    {
     "name": "stderr",
     "output_type": "stream",
     "text": [
      "100%|██████████| 17/17 [00:07<00:00,  2.14it/s]\n"
     ]
    },
    {
     "name": "stdout",
     "output_type": "stream",
     "text": [
      "Epoch 140/300, Training Loss: 0.1772\n",
      "Validation Loss: 0.2668\n",
      "Validation Accuracy: 89.50%\n"
     ]
    },
    {
     "name": "stderr",
     "output_type": "stream",
     "text": [
      "100%|██████████| 17/17 [00:07<00:00,  2.14it/s]\n"
     ]
    },
    {
     "name": "stdout",
     "output_type": "stream",
     "text": [
      "Epoch 141/300, Training Loss: 0.1764\n",
      "Validation Loss: 0.2634\n",
      "Validation Accuracy: 89.50%\n"
     ]
    },
    {
     "name": "stderr",
     "output_type": "stream",
     "text": [
      "100%|██████████| 17/17 [00:07<00:00,  2.14it/s]\n"
     ]
    },
    {
     "name": "stdout",
     "output_type": "stream",
     "text": [
      "Epoch 142/300, Training Loss: 0.1767\n",
      "Validation Loss: 0.2764\n",
      "Validation Accuracy: 89.50%\n"
     ]
    },
    {
     "name": "stderr",
     "output_type": "stream",
     "text": [
      "100%|██████████| 17/17 [00:07<00:00,  2.14it/s]\n"
     ]
    },
    {
     "name": "stdout",
     "output_type": "stream",
     "text": [
      "Epoch 143/300, Training Loss: 0.1741\n",
      "Validation Loss: 0.2667\n",
      "Validation Accuracy: 89.25%\n"
     ]
    },
    {
     "name": "stderr",
     "output_type": "stream",
     "text": [
      "100%|██████████| 17/17 [00:07<00:00,  2.13it/s]\n"
     ]
    },
    {
     "name": "stdout",
     "output_type": "stream",
     "text": [
      "Epoch 144/300, Training Loss: 0.1709\n",
      "Validation Loss: 0.2638\n",
      "Validation Accuracy: 89.25%\n"
     ]
    },
    {
     "name": "stderr",
     "output_type": "stream",
     "text": [
      "100%|██████████| 17/17 [00:07<00:00,  2.13it/s]\n"
     ]
    },
    {
     "name": "stdout",
     "output_type": "stream",
     "text": [
      "Epoch 145/300, Training Loss: 0.1705\n",
      "Validation Loss: 0.2635\n",
      "Validation Accuracy: 90.25%\n"
     ]
    },
    {
     "name": "stderr",
     "output_type": "stream",
     "text": [
      "100%|██████████| 17/17 [00:07<00:00,  2.14it/s]\n"
     ]
    },
    {
     "name": "stdout",
     "output_type": "stream",
     "text": [
      "Epoch 146/300, Training Loss: 0.1709\n",
      "Validation Loss: 0.2647\n",
      "Validation Accuracy: 88.00%\n",
      "Early stopping triggered.\n",
      "Training completed.\n"
     ]
    }
   ],
   "source": [
    "import torch.nn as nn\n",
    "import torch.optim as optim\n",
    "from tqdm import tqdm\n",
    "import os\n",
    "\n",
    "training_dir = os.path.join('checkpoints', 'run_003')\n",
    "os.makedirs(training_dir, exist_ok=True)\n",
    "\n",
    "# Initialize loss function, and optimizer\n",
    "criterion = nn.CrossEntropyLoss()\n",
    "optimizer = optim.SGD(model.parameters(), lr=0.1)\n",
    "\n",
    "# Training parameters\n",
    "num_epochs = 300\n",
    "patience = 10\n",
    "\n",
    "# Define the path to save the checkpoint\n",
    "checkpoint_path = os.path.join(training_dir, 'checkpoint.pth')\n",
    "\n",
    "# Initialize best_loss and early_stopping_counter\n",
    "best_loss = float('inf')\n",
    "early_stopping_counter = 0\n",
    "\n",
    "# Load from checkpoint if it exists\n",
    "if os.path.isfile(checkpoint_path):\n",
    "    print(\"Loading checkpoint...\")\n",
    "    checkpoint = torch.load(checkpoint_path)\n",
    "    model.load_state_dict(checkpoint['model_state_dict'])\n",
    "    optimizer.load_state_dict(checkpoint['optimizer_state_dict'])\n",
    "    start_epoch = checkpoint['epoch']\n",
    "    best_loss = checkpoint['best_loss']\n",
    "    early_stopping_counter = checkpoint['early_stopping_counter']\n",
    "else:\n",
    "    start_epoch = 0  # Start from the beginning if no checkpoint exists\n",
    "\n",
    "# Training loop\n",
    "for epoch in range(start_epoch, num_epochs):\n",
    "    model.train()  # Set the model to training mode\n",
    "    running_loss = 0.0\n",
    "    \n",
    "    for inputs, labels in tqdm(train_loader):\n",
    "        optimizer.zero_grad()  # Zero the parameter gradients\n",
    "        outputs = model(inputs)  # Forward pass\n",
    "        loss = criterion(outputs, labels)  # Compute loss\n",
    "        loss.backward()  # Backward pass\n",
    "        optimizer.step()  # Optimize weights\n",
    "        \n",
    "        running_loss += loss.item()  # Accumulate loss\n",
    "    \n",
    "    # Average loss for the training epoch\n",
    "    train_loss = running_loss / len(train_loader)\n",
    "    print(f'Epoch {epoch+1}/{num_epochs}, Training Loss: {train_loss:.4f}')\n",
    "\n",
    "    # Validation step\n",
    "    model.eval()  # Set the model to evaluation mode\n",
    "    val_running_loss = 0.0\n",
    "    with torch.no_grad():  # No gradient calculation for validation\n",
    "        for inputs, labels in val_loader:\n",
    "            outputs = model(inputs)  # Forward pass\n",
    "            loss = criterion(outputs, labels)  # Compute validation loss\n",
    "            val_running_loss += loss.item()  # Accumulate validation loss\n",
    "\n",
    "    # Average loss for the validation epoch\n",
    "    val_loss = val_running_loss / len(val_loader)\n",
    "    print(f'Validation Loss: {val_loss:.4f}')\n",
    "\n",
    "    # Calculate and print accuracy on validation set\n",
    "    accuracy = evaluate_accuracy(model, val_loader)\n",
    "    print(f'Validation Accuracy: {accuracy:.2f}%')\n",
    "    \n",
    "    # Early stopping\n",
    "    if val_loss < best_loss:\n",
    "        best_loss = val_loss\n",
    "        early_stopping_counter = 0  # Reset counter if loss improves\n",
    "        print(\"Improved! Saving model...\")\n",
    "        torch.save(model.state_dict(), os.path.join(training_dir, 'best_model.pth'))  # Save the best model\n",
    "    else:\n",
    "        early_stopping_counter += 1\n",
    "        if early_stopping_counter >= patience:\n",
    "            print(\"Early stopping triggered.\")\n",
    "            break  # Stop training if patience is exceeded\n",
    "\n",
    "    # Save checkpoint after each epoch\n",
    "    torch.save({\n",
    "        'epoch': epoch + 1,  # Save next epoch\n",
    "        'model_state_dict': model.state_dict(),\n",
    "        'optimizer_state_dict': optimizer.state_dict(),\n",
    "        'best_loss': best_loss,\n",
    "        'early_stopping_counter': early_stopping_counter,\n",
    "    }, checkpoint_path)\n",
    "\n",
    "print(\"Training completed.\")"
   ]
  },
  {
   "cell_type": "code",
   "execution_count": 23,
   "metadata": {},
   "outputs": [
    {
     "name": "stdout",
     "output_type": "stream",
     "text": [
      "Test Accuracy: 91.40%\n"
     ]
    }
   ],
   "source": [
    "training_dir = os.path.join('checkpoints', 'run_003')\n",
    "\n",
    "# Load the best model weights\n",
    "model.load_state_dict(torch.load(os.path.join(training_dir, 'best_model.pth')))\n",
    "\n",
    "# Calculate and print accuracy on validation set\n",
    "accuracy = evaluate_accuracy(model, train_loader)\n",
    "print(f'Test Accuracy: {accuracy:.2f}%')"
   ]
  }
 ],
 "metadata": {
  "colab": {
   "include_colab_link": true,
   "provenance": []
  },
  "kernelspec": {
   "display_name": "Python [conda env:esig-gp-esig-classifier-env]",
   "language": "python",
   "name": "conda-env-esig-gp-esig-classifier-env-py"
  },
  "language_info": {
   "codemirror_mode": {
    "name": "ipython",
    "version": 3
   },
   "file_extension": ".py",
   "mimetype": "text/x-python",
   "name": "python",
   "nbconvert_exporter": "python",
   "pygments_lexer": "ipython3",
   "version": "3.8.20"
  }
 },
 "nbformat": 4,
 "nbformat_minor": 0
}
